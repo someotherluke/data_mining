{
 "cells": [
  {
   "cell_type": "markdown",
   "id": "ccf6f71c-3b26-4b1b-96cc-37b1b4b3c132",
   "metadata": {},
   "source": [
    "# Data Mining CMP-7023B\n",
    "## Lab 6: Supervised Learning - Classification Part 2 - more advanced practice sample solutions"
   ]
  },
  {
   "cell_type": "markdown",
   "id": "f79d0934-23ee-47ad-a78e-2e046b1f38d3",
   "metadata": {},
   "source": [
    "## Heart Disease UCI\n",
    "In this practice sheet we are using Heart Disease dataset from UCI (Machine Learning Repository)\n",
    "\n",
    "### Content\n",
    "\n",
    "This database contains 76 attributes, but all published experiments refer to using a subset of 14 of them https://archive.ics.uci.edu/ml/datasets/heart+disease\n",
    "\n",
    "Attribute Information:\n",
    "- age : age in years\n",
    "- sex: sex (1 = male; 0 = female)\n",
    "- cp : chest pain type (4 values)\n",
    "    - Value 1: typical angina\n",
    "    - Value 2: atypical angina\n",
    "    - Value 3: non-anginal pain\n",
    "    - Value 4: asymptomatic\n",
    "- trestbps: resting blood pressure\n",
    "- chol: serum cholestoral in mg/dl \n",
    "- fbs: fasting blood sugar > 120 mg/dl  (1 = true; 0 = false)\n",
    "- restecg: resting electrocardiographic results (values 0,1,2)\n",
    "    - Value 0: normal\n",
    "    - Value 1: having ST-T wave abnormality\n",
    "    - Value 2: showing left ventricular hypertrophy\n",
    "- thalach: maximum heart rate achieved\n",
    "- exang: exercise induced angina (1 = yes; 0 = no)\n",
    "- oldpeak = ST depression induced by exercise relative to rest\n",
    "- slope: the slope of the peak exercise ST segment\n",
    "    - Value 1: upsloping\n",
    "    - Value 2: flat\n",
    "    - Value 3: downsloping\n",
    "- ca: number of major vessels (0-3) colored by flourosopy\n",
    "- thal: 3 = normal; 6 = fixed defect; 7 = reversable defect\n",
    "- target (num): diagnosis of heart disease (angiographic disease status) (<b> the predicted attribute </b>)\n",
    "    - Value 0: < 50% diameter narrowing\n",
    "    - Value 1: > 50% diameter narrowing"
   ]
  },
  {
   "cell_type": "markdown",
   "id": "ca649c4d-e701-4f2b-a6b3-fc20237b31ca",
   "metadata": {},
   "source": [
    "### Objective:\n",
    "The objective of this lab exercise is to familiarize students with classification tasks, parameter tuning, and model evaluation using the Heart Disease UCI dataset."
   ]
  },
  {
   "cell_type": "markdown",
   "id": "2ab68778-e8ae-49cf-9dda-40cc47d0ca77",
   "metadata": {},
   "source": [
    "## Tasks:\n",
    "### Task 1: Data Exploration:\r\n",
    "- Load the Heart Disease UCI dataset.\r\n",
    "- Perform initial Exploratory Data Analysis (EDA).\r\n",
    "- Identify features and the target variable.\r\n",
    "- Check for missing values, outliers, and perform data cleanng.\r\n",
    "ng."
   ]
  },
  {
   "cell_type": "markdown",
   "id": "6aa197fe-09bd-49b2-be37-7339332d1cb3",
   "metadata": {},
   "source": [
    "#### Starting out: loading data and libraries\n",
    "We begin by loading the necessary libraries for the work we are going to do in this lab."
   ]
  },
  {
   "cell_type": "code",
   "execution_count": null,
   "id": "7bc89547-5968-4982-a600-1a1acc2af140",
   "metadata": {},
   "outputs": [],
   "source": [
    "import pandas as pd\n",
    "import numpy as np\n",
    "\n",
    "import seaborn as sns\n",
    "\n",
    "import matplotlib.pyplot as plt\n",
    "\n",
    "from sklearn.metrics import precision_recall_curve\n",
    "from sklearn.metrics import average_precision_score\n",
    "\n",
    "from sklearn.model_selection import train_test_split\n",
    "from sklearn.metrics import accuracy_score, precision_score, recall_score, f1_score, classification_report\n",
    "from sklearn.metrics import confusion_matrix\n",
    "from sklearn.metrics import plot_confusion_matrix\n",
    "\n",
    "from sklearn.pipeline import Pipeline\n",
    "from sklearn.preprocessing import MinMaxScaler, Normalizer, PowerTransformer, QuantileTransformer, StandardScaler\n",
    "from sklearn.model_selection import GridSearchCV\n",
    "from sklearn.ensemble import RandomForestClassifier, GradientBoostingClassifier\n",
    "from sklearn.tree import DecisionTreeClassifier\n",
    "from sklearn.svm import SVC\n",
    "\n",
    "import warnings\n",
    "\n",
    "warnings.filterwarnings('ignore') #ignore warnings"
   ]
  },
  {
   "cell_type": "markdown",
   "id": "2cc7475c-6ae0-43e9-906a-f45618f61f2e",
   "metadata": {},
   "source": [
    "- Download the dataset from blackboard and read it"
   ]
  },
  {
   "cell_type": "code",
   "execution_count": null,
   "id": "ba36cf2a-9755-4b2d-b171-5fb50f4ada2f",
   "metadata": {},
   "outputs": [],
   "source": [
    "#designate the path where you saved your OEC data\n",
    "heart_data_path = \"C:\\DM-DATA\\heart.csv\"\n",
    "\n",
    "#Load the data using pandas read_csv function. \n",
    "orig_data = pd.read_csv(heart_data_path)\n",
    "\n",
    "#get the data out, leaving behind the target column (the last feature).\n",
    "X = orig_data.iloc[:, :-1]\n",
    "#extract the target column.\n",
    "y = orig_data[\"target\"] \n",
    "\n",
    "print(X)\n",
    "print(y)"
   ]
  },
  {
   "cell_type": "markdown",
   "id": "93db88c0-e1e4-492c-b3d6-58e2635363f9",
   "metadata": {},
   "source": [
    "#### Check data types and missing values"
   ]
  },
  {
   "cell_type": "code",
   "execution_count": null,
   "id": "e3ab5967-0d90-435f-b0fb-018bdcbbf19c",
   "metadata": {},
   "outputs": [],
   "source": [
    "# Check data types and missing values\n"
   ]
  },
  {
   "cell_type": "markdown",
   "id": "e445e5cf-2144-4263-8a89-646d9b72a291",
   "metadata": {},
   "source": [
    "### Explore the Data"
   ]
  },
  {
   "cell_type": "markdown",
   "id": "8aea5d72-ffa5-4155-a43b-e18be9bc2381",
   "metadata": {},
   "source": [
    "#### Visualize the distribution of the target variable"
   ]
  },
  {
   "cell_type": "code",
   "execution_count": null,
   "id": "a758e158-96aa-4f1c-a792-986595d9f6a7",
   "metadata": {},
   "outputs": [],
   "source": [
    "# Visualize the distribution of the target variable\n"
   ]
  },
  {
   "cell_type": "markdown",
   "id": "c0b981b8-6aee-443c-8eef-5841207d239d",
   "metadata": {},
   "source": [
    "#### Visualize the distribution of numerical features"
   ]
  },
  {
   "cell_type": "code",
   "execution_count": null,
   "id": "89ee9d3e-609a-42a4-9439-3f385dfc97e1",
   "metadata": {},
   "outputs": [],
   "source": [
    "# Visualize the distribution of numerical features\n"
   ]
  },
  {
   "cell_type": "markdown",
   "id": "c594e026-0ba5-4d9d-8c85-6bde4b77038a",
   "metadata": {},
   "source": [
    "#### Check for missing values"
   ]
  },
  {
   "cell_type": "code",
   "execution_count": null,
   "id": "ee019ecd-42ec-45e8-8016-25181e1133ca",
   "metadata": {},
   "outputs": [],
   "source": [
    "# Check for missing values\n"
   ]
  },
  {
   "cell_type": "markdown",
   "id": "b57d368f-9164-4c86-b85f-914dcd0883ec",
   "metadata": {},
   "source": [
    "\n",
    "#### Look at the distributions or histograms of individual attributes.\n",
    "Data describtions:"
   ]
  },
  {
   "cell_type": "code",
   "execution_count": null,
   "id": "8022af42-b9ea-4bf5-87e6-d15bd44d8b2c",
   "metadata": {},
   "outputs": [],
   "source": []
  },
  {
   "cell_type": "markdown",
   "id": "ef6838ac-9cfc-4f66-8a72-79390d5d5f49",
   "metadata": {},
   "source": [
    "#### Examine the mean and standard deviation for each attribute."
   ]
  },
  {
   "cell_type": "code",
   "execution_count": null,
   "id": "7c6fd387-c8c7-4711-94f7-6b6eec70a93d",
   "metadata": {},
   "outputs": [],
   "source": []
  },
  {
   "cell_type": "markdown",
   "id": "daa8786e-11ca-40b8-b0f9-cca4e7093690",
   "metadata": {},
   "source": [
    "#### Check for outliers using box plots"
   ]
  },
  {
   "cell_type": "code",
   "execution_count": null,
   "id": "2565b69c-b251-4b29-b0cc-13f14278f1a1",
   "metadata": {},
   "outputs": [],
   "source": []
  },
  {
   "cell_type": "markdown",
   "id": "ab834d56-ccae-457c-a9ad-e25fd79e26e1",
   "metadata": {},
   "source": [
    "#### Perform data cleaning (handle missing values, outliers, etc.)\n",
    "For simplicity, you can fill missing values with the mean for numerical features"
   ]
  },
  {
   "cell_type": "code",
   "execution_count": null,
   "id": "749ce9d8-f17e-4dfc-8733-abe57e0433a7",
   "metadata": {},
   "outputs": [],
   "source": []
  },
  {
   "cell_type": "markdown",
   "id": "b601a81f-eba3-4512-899d-78f071595503",
   "metadata": {},
   "source": [
    "#### Verify that missing values are filled"
   ]
  },
  {
   "cell_type": "code",
   "execution_count": null,
   "id": "dd3e1ab7-8b5e-4c4d-a9a0-30ca208d7545",
   "metadata": {},
   "outputs": [],
   "source": []
  },
  {
   "cell_type": "markdown",
   "id": "569d986f-45bc-4d73-881f-c7376e3cfeb6",
   "metadata": {},
   "source": [
    "### Task 2: Classification Task: \n",
    "** Note: Assume preprocessing has been done before this task. \n",
    "- Split the dataset into training and testing sets.\n",
    "  * random_state=41: setting a random_state ensures reproducibility. If you use the same random seed, you will get the same results each time you run the code.\n",
    "  * stratify=y: ensures that the proportion of each class in y is maintained in both the training and testing sets. This is particularly important when dealing with imbalanced datasets or when the distribution of classes in the target variable is essential for model training and evaluation.\n",
    "- Choose a classification algorithm (or a bunch) (e.g. Decision Trees, SVM, Nueral Network, Randome forest).\n",
    "- Train the model using the training set. - Make predictions on thetesting set.\n",
    "- Evaluate the model's performance using appropriate metrics (accuracy, precision, recall, F1-score).\n",
    "- Generate the classification report and confusion matrix."
   ]
  },
  {
   "cell_type": "code",
   "execution_count": null,
   "id": "275d239a-6558-40a9-accd-fdc7a70602ec",
   "metadata": {},
   "outputs": [],
   "source": [
    "# Split the dataset into training, testing, and validation sets using stratified sampling\n",
    "                                    "
   ]
  },
  {
   "cell_type": "code",
   "execution_count": null,
   "id": "4bef581f-8729-4c02-9e94-4a3c4b027ba3",
   "metadata": {},
   "outputs": [],
   "source": [
    "# Choose a classification algorithm (Decision Tree Classifier as an example)\n"
   ]
  },
  {
   "cell_type": "code",
   "execution_count": null,
   "id": "2d2e50cc-cec6-4d2f-92a7-26339506bd9b",
   "metadata": {},
   "outputs": [],
   "source": [
    "# Train the model using the training set\n"
   ]
  },
  {
   "cell_type": "code",
   "execution_count": null,
   "id": "a41f5917-860d-4d39-ac14-5bc5cb355e3f",
   "metadata": {},
   "outputs": [],
   "source": [
    "# Make predictions on the testing set\n"
   ]
  },
  {
   "cell_type": "code",
   "execution_count": null,
   "id": "f2f9b37d-b4e3-4032-8e74-fece3f9a2e57",
   "metadata": {},
   "outputs": [],
   "source": [
    "# Evaluate the model's performance using appropriate metrics\n"
   ]
  },
  {
   "cell_type": "code",
   "execution_count": null,
   "id": "a8ed39a7-b0b5-4820-8e48-36c625f2d3b8",
   "metadata": {},
   "outputs": [],
   "source": [
    "# Generate the classification report\n"
   ]
  },
  {
   "cell_type": "code",
   "execution_count": null,
   "id": "16f9aed7-e6ea-49d5-a3ff-db63df6f2993",
   "metadata": {},
   "outputs": [],
   "source": []
  },
  {
   "cell_type": "markdown",
   "id": "2f06167f-b93e-412e-9b31-07ad957ac417",
   "metadata": {},
   "source": [
    "### Task 3: Parameter Tuning:\n",
    "- Investigate the hyperparameters of the chosen algorithm.\n",
    "- Create a pipeline with scaling/transformation and classification stages.\n",
    "- Use grid search or random search to find the optimal hyperparameters. \n",
    "- Re-train the model with the tuned hyperparameters. \n",
    "- Evaluate the tuned model on the testing set.\n",
    "- Assess overfitting or underfitting using the accuracy metric (the tuned model).\n",
    "- Plot the precision and recall for the built pipeline."
   ]
  },
  {
   "cell_type": "code",
   "execution_count": null,
   "id": "12201b5d-a0b8-45e2-a7e4-f225921d6c0d",
   "metadata": {},
   "outputs": [],
   "source": [
    "# Choose classification algorithms (e.g Decision Tree)\n",
    "\n",
    "\n",
    "# Define hyperparameter grids for grid search\n",
    "\n",
    "\n",
    "# Create a pipeline with scaling/transformation and classification stages\n",
    "\n",
    "\n",
    "# Perform Grid Search to find the optimal hyperparameters \n",
    "\n",
    "\n",
    "# Get the best hyperparameters\n",
    "\n",
    "\n",
    "# Retrain the model with the tuned hyperparameters\n",
    "\n",
    "\n",
    "# Evaluate the tuned model on the testing set\n",
    "\n",
    "\n",
    "# Evaluate the model's performance \n",
    "\n"
   ]
  },
  {
   "cell_type": "code",
   "execution_count": null,
   "id": "514345e4-278d-42a8-a784-fe31fb590d43",
   "metadata": {},
   "outputs": [],
   "source": [
    "# Generate the classification report\n"
   ]
  },
  {
   "cell_type": "code",
   "execution_count": null,
   "id": "c9a40faf-e327-4373-9158-f0133abd8acf",
   "metadata": {},
   "outputs": [],
   "source": [
    "# Assess overfitting or underfitting using the accuracy metric (the tuned model).\n",
    "\n",
    "# Make predictions on both training and testing sets\n",
    "\n",
    "# Evaluate the model's performance on both sets\n",
    "\n",
    "# Additional metrics\n",
    "\n",
    "# Display the accuracies and additional metrics for both sets\n",
    "\n",
    "# Assess overfitting or underfitting\n"
   ]
  },
  {
   "cell_type": "markdown",
   "id": "c51dca78-6700-40ee-8a87-1441a96a18ff",
   "metadata": {},
   "source": [
    "#### Plot the precision and recall for the pipeline you have built"
   ]
  },
  {
   "cell_type": "code",
   "execution_count": null,
   "id": "4133225f-88d0-4644-9433-354395ce7970",
   "metadata": {},
   "outputs": [],
   "source": [
    "# Predict probabilities for each class for Decision Tree\n",
    "\n",
    "\n",
    "# Predict probabilities for each class for SVC\n",
    "\n",
    "\n",
    "# Plot Precision-Recall curves\n",
    "plt.figure(figsize=(10, 6))\n",
    "\n",
    "\n",
    "\n",
    "# Plot settings\n",
    "plt.xlabel('Recall')\n",
    "plt.ylabel('Precision')\n",
    "plt.title('Precision-Recall Curve')\n",
    "plt.legend()\n",
    "plt.grid(True)\n",
    "plt.show()"
   ]
  },
  {
   "cell_type": "markdown",
   "id": "c7059012-4f3c-4510-9cf7-b34c81b1b633",
   "metadata": {},
   "source": [
    "### you can try a nother classification algorithms (e.g Random Forest Classifier if already done SVC)"
   ]
  },
  {
   "cell_type": "markdown",
   "id": "856b82a4-ee82-4317-b678-0d3c916edfbf",
   "metadata": {},
   "source": [
    "### Task 4: Model Comparison \n",
    "- Choose another classification algorithm (e.g. SVC, Decision Tree, Random Forest).\n",
    "- Train the second model using the same training set.\n",
    "- Compare the performance of the two models using appropriate metrics:\n",
    "    - Accuracy\n",
    "    - Precision\n",
    "    - Recall\n",
    "    - F1-Score\n",
    "- Select the best-performing model.\n"
   ]
  },
  {
   "cell_type": "code",
   "execution_count": null,
   "id": "cfedcb4f-b84b-4fc7-b0f1-d1b596859dda",
   "metadata": {},
   "outputs": [],
   "source": [
    "from sklearn.ensemble import RandomForestClassifier\n",
    "from sklearn.metrics import accuracy_score, precision_score, recall_score, f1_score, roc_auc_score\n",
    "\n",
    "\n",
    "# Choose another classification algorithm (Random Forest as an example)\n"
   ]
  },
  {
   "cell_type": "code",
   "execution_count": null,
   "id": "a957ceb5-51ba-46ae-9661-303f7be2d8ce",
   "metadata": {},
   "outputs": [],
   "source": []
  }
 ],
 "metadata": {
  "kernelspec": {
   "display_name": "Python 3 (ipykernel)",
   "language": "python",
   "name": "python3"
  },
  "language_info": {
   "codemirror_mode": {
    "name": "ipython",
    "version": 3
   },
   "file_extension": ".py",
   "mimetype": "text/x-python",
   "name": "python",
   "nbconvert_exporter": "python",
   "pygments_lexer": "ipython3",
   "version": "3.11.5"
  }
 },
 "nbformat": 4,
 "nbformat_minor": 5
}
