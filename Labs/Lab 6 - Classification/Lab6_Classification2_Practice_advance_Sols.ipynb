{
 "cells": [
  {
   "cell_type": "markdown",
   "metadata": {},
   "source": [
    "# Data Mining CMP-7023B\n",
    "## Lab 6: Supervised Learning - Classification Part 2 - more advanced practice sample solutions"
   ]
  },
  {
   "cell_type": "markdown",
   "metadata": {},
   "source": [
    "## Heart Disease UCI\n",
    "In this practice sheet we are using Heart Disease dataset from UCI (Machine Learning Repository)\n",
    "\n",
    "### Content\n",
    "\n",
    "This database contains 76 attributes, but all published experiments refer to using a subset of 14 of them https://archive.ics.uci.edu/ml/datasets/heart+disease\n",
    "\n",
    "Attribute Information:\n",
    "- age : age in years\n",
    "- sex: sex (1 = male; 0 = female)\n",
    "- cp : chest pain type (4 values)\n",
    "    - Value 1: typical angina\n",
    "    - Value 2: atypical angina\n",
    "    - Value 3: non-anginal pain\n",
    "    - Value 4: asymptomatic\n",
    "- trestbps: resting blood pressure\n",
    "- chol: serum cholestoral in mg/dl \n",
    "- fbs: fasting blood sugar > 120 mg/dl  (1 = true; 0 = false)\n",
    "- restecg: resting electrocardiographic results (values 0,1,2)\n",
    "    - Value 0: normal\n",
    "    - Value 1: having ST-T wave abnormality\n",
    "    - Value 2: showing left ventricular hypertrophy\n",
    "- thalach: maximum heart rate achieved\n",
    "- exang: exercise induced angina (1 = yes; 0 = no)\n",
    "- oldpeak = ST depression induced by exercise relative to rest\n",
    "- slope: the slope of the peak exercise ST segment\n",
    "    - Value 1: upsloping\n",
    "    - Value 2: flat\n",
    "    - Value 3: downsloping\n",
    "- ca: number of major vessels (0-3) colored by flourosopy\n",
    "- thal: 3 = normal; 6 = fixed defect; 7 = reversable defect\n",
    "- target (num): diagnosis of heart disease (angiographic disease status) (<b> the predicted attribute </b>)\n",
    "    - Value 0: < 50% diameter narrowing\n",
    "    - Value 1: > 50% diameter narrowing"
   ]
  },
  {
   "cell_type": "markdown",
   "metadata": {},
   "source": [
    "### Objective:\n",
    "The objective of this lab exercise is to familiarize students with classification tasks, parameter tuning, and model evaluation using the Heart Disease UCI dataset."
   ]
  },
  {
   "cell_type": "markdown",
   "metadata": {},
   "source": [
    "## Tasks:\n",
    "### Task 1: Data Exploration:\n",
    "- Load the Heart Disease UCI dataset.\n",
    "- Perform initial Exploratory Data Analysis (EDA).\n",
    "- Identify features and the target variable.\n",
    "- Check for missing values, outliers, and perform data cleanng.\n",
    "ng."
   ]
  },
  {
   "cell_type": "markdown",
   "metadata": {},
   "source": [
    "#### Starting out: loading data and libraries\n",
    "We begin by loading the necessary libraries for the work we are going to do in this lab."
   ]
  },
  {
   "cell_type": "code",
   "execution_count": 1,
   "metadata": {},
   "outputs": [],
   "source": [
    "import pandas as pd\n",
    "import numpy as np\n",
    "\n",
    "import seaborn as sns\n",
    "\n",
    "import matplotlib.pyplot as plt\n",
    "\n",
    "from sklearn.metrics import precision_recall_curve\n",
    "from sklearn.metrics import average_precision_score\n",
    "\n",
    "from sklearn.model_selection import train_test_split\n",
    "from sklearn.metrics import accuracy_score, precision_score, recall_score, f1_score, classification_report\n",
    "from sklearn.metrics import confusion_matrix\n",
    "from sklearn.metrics import plot_confusion_matrix\n",
    "\n",
    "from sklearn.pipeline import Pipeline\n",
    "from sklearn.preprocessing import MinMaxScaler, Normalizer, PowerTransformer, QuantileTransformer, StandardScaler\n",
    "from sklearn.model_selection import GridSearchCV\n",
    "from sklearn.ensemble import RandomForestClassifier, GradientBoostingClassifier\n",
    "from sklearn.tree import DecisionTreeClassifier\n",
    "from sklearn.svm import SVC\n",
    "\n",
    "import warnings\n",
    "\n",
    "warnings.filterwarnings('ignore') #ignore warnings"
   ]
  },
  {
   "cell_type": "markdown",
   "metadata": {},
   "source": [
    "- Download the dataset from blackboard and read it"
   ]
  },
  {
   "cell_type": "code",
   "execution_count": 2,
   "metadata": {},
   "outputs": [
    {
     "name": "stdout",
     "output_type": "stream",
     "text": [
      "     age  sex  cp  trestbps  chol  fbs  restecg  thalach  exang  oldpeak  \\\n",
      "0     63    1   3       145   233    1        0      150      0      2.3   \n",
      "1     37    1   2       130   250    0        1      187      0      3.5   \n",
      "2     41    0   1       130   204    0        0      172      0      1.4   \n",
      "3     56    1   1       120   236    0        1      178      0      0.8   \n",
      "4     57    0   0       120   354    0        1      163      1      0.6   \n",
      "..   ...  ...  ..       ...   ...  ...      ...      ...    ...      ...   \n",
      "298   57    0   0       140   241    0        1      123      1      0.2   \n",
      "299   45    1   3       110   264    0        1      132      0      1.2   \n",
      "300   68    1   0       144   193    1        1      141      0      3.4   \n",
      "301   57    1   0       130   131    0        1      115      1      1.2   \n",
      "302   57    0   1       130   236    0        0      174      0      0.0   \n",
      "\n",
      "     slope  ca  thal  \n",
      "0        0   0     1  \n",
      "1        0   0     2  \n",
      "2        2   0     2  \n",
      "3        2   0     2  \n",
      "4        2   0     2  \n",
      "..     ...  ..   ...  \n",
      "298      1   0     3  \n",
      "299      1   0     3  \n",
      "300      1   2     3  \n",
      "301      1   1     3  \n",
      "302      1   1     2  \n",
      "\n",
      "[303 rows x 13 columns]\n",
      "0      1\n",
      "1      1\n",
      "2      1\n",
      "3      1\n",
      "4      1\n",
      "      ..\n",
      "298    0\n",
      "299    0\n",
      "300    0\n",
      "301    0\n",
      "302    0\n",
      "Name: target, Length: 303, dtype: int64\n"
     ]
    }
   ],
   "source": [
    "#designate the path where you saved your OEC data\n",
    "heart_data_path = \"C:\\DM-DATA\\heart.csv\"\n",
    "\n",
    "#Load the data using pandas read_csv function. \n",
    "orig_data = pd.read_csv(heart_data_path)\n",
    "\n",
    "#get the data out, leaving behind the target column (the last feature).\n",
    "X = orig_data.iloc[:, :-1]\n",
    "#extract the target column.\n",
    "y = orig_data[\"target\"] \n",
    "\n",
    "print(X)\n",
    "print(y)"
   ]
  },
  {
   "cell_type": "markdown",
   "metadata": {},
   "source": [
    "#### Check data types and missing values"
   ]
  },
  {
   "cell_type": "code",
   "execution_count": 3,
   "metadata": {},
   "outputs": [
    {
     "name": "stdout",
     "output_type": "stream",
     "text": [
      "\n",
      "Data types and missing values:\n",
      "<class 'pandas.core.frame.DataFrame'>\n",
      "RangeIndex: 303 entries, 0 to 302\n",
      "Data columns (total 13 columns):\n",
      " #   Column    Non-Null Count  Dtype  \n",
      "---  ------    --------------  -----  \n",
      " 0   age       303 non-null    int64  \n",
      " 1   sex       303 non-null    int64  \n",
      " 2   cp        303 non-null    int64  \n",
      " 3   trestbps  303 non-null    int64  \n",
      " 4   chol      303 non-null    int64  \n",
      " 5   fbs       303 non-null    int64  \n",
      " 6   restecg   303 non-null    int64  \n",
      " 7   thalach   303 non-null    int64  \n",
      " 8   exang     303 non-null    int64  \n",
      " 9   oldpeak   303 non-null    float64\n",
      " 10  slope     303 non-null    int64  \n",
      " 11  ca        303 non-null    int64  \n",
      " 12  thal      303 non-null    int64  \n",
      "dtypes: float64(1), int64(12)\n",
      "memory usage: 30.9 KB\n",
      "None\n"
     ]
    }
   ],
   "source": [
    "# Check data types and missing values\n",
    "print(\"\\nData types and missing values:\")\n",
    "print(X.info())"
   ]
  },
  {
   "cell_type": "markdown",
   "metadata": {},
   "source": [
    "### Explore the Data"
   ]
  },
  {
   "cell_type": "markdown",
   "metadata": {},
   "source": [
    "#### Visualize the distribution of the target variable"
   ]
  },
  {
   "cell_type": "code",
   "execution_count": 4,
   "metadata": {},
   "outputs": [
    {
     "data": {
      "image/png": "[encoded data removed]",
      "text/plain": [
       "<Figure size 600x400 with 1 Axes>"
      ]
     },
     "metadata": {},
     "output_type": "display_data"
    }
   ],
   "source": [
    "# Visualize the distribution of the target variable\n",
    "plt.figure(figsize=(6, 4))\n",
    "sns.countplot(x=\"target\", data=orig_data, palette=\"Set2\")\n",
    "plt.title(\"Distribution of the Target Variable\")\n",
    "plt.show()"
   ]
  },
  {
   "cell_type": "markdown",
   "metadata": {},
   "source": [
    "#### Visualize the distribution of numerical features"
   ]
  },
  {
   "cell_type": "code",
   "execution_count": 5,
   "metadata": {},
   "outputs": [
    {
     "data": {
      "image/png": "[encoded data removed]",
      "text/plain": [
       "<Figure size 1200x1000 with 1 Axes>"
      ]
     },
     "metadata": {},
     "output_type": "display_data"
    }
   ],
   "source": [
    "# Visualize the distribution of numerical features\n",
    "plt.figure(figsize=(12, 10))\n",
    "sns.boxplot(data=X, orient=\"h\", palette=\"Set2\")\n",
    "plt.title(\"Distribution of Numerical Features\")\n",
    "plt.show()"
   ]
  },
  {
   "cell_type": "markdown",
   "metadata": {},
   "source": [
    "#### Check for missing values"
   ]
  },
  {
   "cell_type": "code",
   "execution_count": 6,
   "metadata": {},
   "outputs": [
    {
     "name": "stdout",
     "output_type": "stream",
     "text": [
      "\n",
      "Missing values per feature:\n",
      "age         0\n",
      "sex         0\n",
      "cp          0\n",
      "trestbps    0\n",
      "chol        0\n",
      "fbs         0\n",
      "restecg     0\n",
      "thalach     0\n",
      "exang       0\n",
      "oldpeak     0\n",
      "slope       0\n",
      "ca          0\n",
      "thal        0\n",
      "dtype: int64\n"
     ]
    }
   ],
   "source": [
    "# Check for missing values\n",
    "missing_values = X.isnull().sum()\n",
    "print(\"\\nMissing values per feature:\")\n",
    "print(missing_values)"
   ]
  },
  {
   "cell_type": "markdown",
   "metadata": {},
   "source": [
    "\n",
    "#### Look at the distributions or histograms of individual attributes.\n",
    "Data describtions:"
   ]
  },
  {
   "cell_type": "code",
   "execution_count": 7,
   "metadata": {},
   "outputs": [
    {
     "data": {
      "text/html": [
       "<div>\n",
       "<style scoped>\n",
       "    .dataframe tbody tr th:only-of-type {\n",
       "        vertical-align: middle;\n",
       "    }\n",
       "\n",
       "    .dataframe tbody tr th {\n",
       "        vertical-align: top;\n",
       "    }\n",
       "\n",
       "    .dataframe thead th {\n",
       "        text-align: right;\n",
       "    }\n",
       "</style>\n",
       "<table border=\"1\" class=\"dataframe\">\n",
       "  <thead>\n",
       "    <tr style=\"text-align: right;\">\n",
       "      <th></th>\n",
       "      <th>age</th>\n",
       "      <th>sex</th>\n",
       "      <th>cp</th>\n",
       "      <th>trestbps</th>\n",
       "      <th>chol</th>\n",
       "      <th>fbs</th>\n",
       "      <th>restecg</th>\n",
       "      <th>thalach</th>\n",
       "      <th>exang</th>\n",
       "      <th>oldpeak</th>\n",
       "      <th>slope</th>\n",
       "      <th>ca</th>\n",
       "      <th>thal</th>\n",
       "    </tr>\n",
       "  </thead>\n",
       "  <tbody>\n",
       "    <tr>\n",
       "      <th>count</th>\n",
       "      <td>303.000000</td>\n",
       "      <td>303.000000</td>\n",
       "      <td>303.000000</td>\n",
       "      <td>303.000000</td>\n",
       "      <td>303.000000</td>\n",
       "      <td>303.000000</td>\n",
       "      <td>303.000000</td>\n",
       "      <td>303.000000</td>\n",
       "      <td>303.000000</td>\n",
       "      <td>303.000000</td>\n",
       "      <td>303.000000</td>\n",
       "      <td>303.000000</td>\n",
       "      <td>303.000000</td>\n",
       "    </tr>\n",
       "    <tr>\n",
       "      <th>mean</th>\n",
       "      <td>54.366337</td>\n",
       "      <td>0.683168</td>\n",
       "      <td>0.966997</td>\n",
       "      <td>131.623762</td>\n",
       "      <td>246.264026</td>\n",
       "      <td>0.148515</td>\n",
       "      <td>0.528053</td>\n",
       "      <td>149.646865</td>\n",
       "      <td>0.326733</td>\n",
       "      <td>1.039604</td>\n",
       "      <td>1.399340</td>\n",
       "      <td>0.729373</td>\n",
       "      <td>2.313531</td>\n",
       "    </tr>\n",
       "    <tr>\n",
       "      <th>std</th>\n",
       "      <td>9.082101</td>\n",
       "      <td>0.466011</td>\n",
       "      <td>1.032052</td>\n",
       "      <td>17.538143</td>\n",
       "      <td>51.830751</td>\n",
       "      <td>0.356198</td>\n",
       "      <td>0.525860</td>\n",
       "      <td>22.905161</td>\n",
       "      <td>0.469794</td>\n",
       "      <td>1.161075</td>\n",
       "      <td>0.616226</td>\n",
       "      <td>1.022606</td>\n",
       "      <td>0.612277</td>\n",
       "    </tr>\n",
       "    <tr>\n",
       "      <th>min</th>\n",
       "      <td>29.000000</td>\n",
       "      <td>0.000000</td>\n",
       "      <td>0.000000</td>\n",
       "      <td>94.000000</td>\n",
       "      <td>126.000000</td>\n",
       "      <td>0.000000</td>\n",
       "      <td>0.000000</td>\n",
       "      <td>71.000000</td>\n",
       "      <td>0.000000</td>\n",
       "      <td>0.000000</td>\n",
       "      <td>0.000000</td>\n",
       "      <td>0.000000</td>\n",
       "      <td>0.000000</td>\n",
       "    </tr>\n",
       "    <tr>\n",
       "      <th>25%</th>\n",
       "      <td>47.500000</td>\n",
       "      <td>0.000000</td>\n",
       "      <td>0.000000</td>\n",
       "      <td>120.000000</td>\n",
       "      <td>211.000000</td>\n",
       "      <td>0.000000</td>\n",
       "      <td>0.000000</td>\n",
       "      <td>133.500000</td>\n",
       "      <td>0.000000</td>\n",
       "      <td>0.000000</td>\n",
       "      <td>1.000000</td>\n",
       "      <td>0.000000</td>\n",
       "      <td>2.000000</td>\n",
       "    </tr>\n",
       "    <tr>\n",
       "      <th>50%</th>\n",
       "      <td>55.000000</td>\n",
       "      <td>1.000000</td>\n",
       "      <td>1.000000</td>\n",
       "      <td>130.000000</td>\n",
       "      <td>240.000000</td>\n",
       "      <td>0.000000</td>\n",
       "      <td>1.000000</td>\n",
       "      <td>153.000000</td>\n",
       "      <td>0.000000</td>\n",
       "      <td>0.800000</td>\n",
       "      <td>1.000000</td>\n",
       "      <td>0.000000</td>\n",
       "      <td>2.000000</td>\n",
       "    </tr>\n",
       "    <tr>\n",
       "      <th>75%</th>\n",
       "      <td>61.000000</td>\n",
       "      <td>1.000000</td>\n",
       "      <td>2.000000</td>\n",
       "      <td>140.000000</td>\n",
       "      <td>274.500000</td>\n",
       "      <td>0.000000</td>\n",
       "      <td>1.000000</td>\n",
       "      <td>166.000000</td>\n",
       "      <td>1.000000</td>\n",
       "      <td>1.600000</td>\n",
       "      <td>2.000000</td>\n",
       "      <td>1.000000</td>\n",
       "      <td>3.000000</td>\n",
       "    </tr>\n",
       "    <tr>\n",
       "      <th>max</th>\n",
       "      <td>77.000000</td>\n",
       "      <td>1.000000</td>\n",
       "      <td>3.000000</td>\n",
       "      <td>200.000000</td>\n",
       "      <td>564.000000</td>\n",
       "      <td>1.000000</td>\n",
       "      <td>2.000000</td>\n",
       "      <td>202.000000</td>\n",
       "      <td>1.000000</td>\n",
       "      <td>6.200000</td>\n",
       "      <td>2.000000</td>\n",
       "      <td>4.000000</td>\n",
       "      <td>3.000000</td>\n",
       "    </tr>\n",
       "  </tbody>\n",
       "</table>\n",
       "</div>"
      ],
      "text/plain": [
       "              age         sex          cp    trestbps        chol         fbs  \\\n",
       "count  303.000000  303.000000  303.000000  303.000000  303.000000  303.000000   \n",
       "mean    54.366337    0.683168    0.966997  131.623762  246.264026    0.148515   \n",
       "std      9.082101    0.466011    1.032052   17.538143   51.830751    0.356198   \n",
       "min     29.000000    0.000000    0.000000   94.000000  126.000000    0.000000   \n",
       "25%     47.500000    0.000000    0.000000  120.000000  211.000000    0.000000   \n",
       "50%     55.000000    1.000000    1.000000  130.000000  240.000000    0.000000   \n",
       "75%     61.000000    1.000000    2.000000  140.000000  274.500000    0.000000   \n",
       "max     77.000000    1.000000    3.000000  200.000000  564.000000    1.000000   \n",
       "\n",
       "          restecg     thalach       exang     oldpeak       slope          ca  \\\n",
       "count  303.000000  303.000000  303.000000  303.000000  303.000000  303.000000   \n",
       "mean     0.528053  149.646865    0.326733    1.039604    1.399340    0.729373   \n",
       "std      0.525860   22.905161    0.469794    1.161075    0.616226    1.022606   \n",
       "min      0.000000   71.000000    0.000000    0.000000    0.000000    0.000000   \n",
       "25%      0.000000  133.500000    0.000000    0.000000    1.000000    0.000000   \n",
       "50%      1.000000  153.000000    0.000000    0.800000    1.000000    0.000000   \n",
       "75%      1.000000  166.000000    1.000000    1.600000    2.000000    1.000000   \n",
       "max      2.000000  202.000000    1.000000    6.200000    2.000000    4.000000   \n",
       "\n",
       "             thal  \n",
       "count  303.000000  \n",
       "mean     2.313531  \n",
       "std      0.612277  \n",
       "min      0.000000  \n",
       "25%      2.000000  \n",
       "50%      2.000000  \n",
       "75%      3.000000  \n",
       "max      3.000000  "
      ]
     },
     "execution_count": 7,
     "metadata": {},
     "output_type": "execute_result"
    }
   ],
   "source": [
    "X.describe()"
   ]
  },
  {
   "cell_type": "markdown",
   "metadata": {},
   "source": [
    "Or use transpose \"T\""
   ]
  },
  {
   "cell_type": "code",
   "execution_count": 8,
   "metadata": {},
   "outputs": [
    {
     "data": {
      "text/html": [
       "<div>\n",
       "<style scoped>\n",
       "    .dataframe tbody tr th:only-of-type {\n",
       "        vertical-align: middle;\n",
       "    }\n",
       "\n",
       "    .dataframe tbody tr th {\n",
       "        vertical-align: top;\n",
       "    }\n",
       "\n",
       "    .dataframe thead th {\n",
       "        text-align: right;\n",
       "    }\n",
       "</style>\n",
       "<table border=\"1\" class=\"dataframe\">\n",
       "  <thead>\n",
       "    <tr style=\"text-align: right;\">\n",
       "      <th></th>\n",
       "      <th>count</th>\n",
       "      <th>mean</th>\n",
       "      <th>std</th>\n",
       "      <th>min</th>\n",
       "      <th>25%</th>\n",
       "      <th>50%</th>\n",
       "      <th>75%</th>\n",
       "      <th>max</th>\n",
       "    </tr>\n",
       "  </thead>\n",
       "  <tbody>\n",
       "    <tr>\n",
       "      <th>age</th>\n",
       "      <td>303.0</td>\n",
       "      <td>54.366337</td>\n",
       "      <td>9.082101</td>\n",
       "      <td>29.0</td>\n",
       "      <td>47.5</td>\n",
       "      <td>55.0</td>\n",
       "      <td>61.0</td>\n",
       "      <td>77.0</td>\n",
       "    </tr>\n",
       "    <tr>\n",
       "      <th>sex</th>\n",
       "      <td>303.0</td>\n",
       "      <td>0.683168</td>\n",
       "      <td>0.466011</td>\n",
       "      <td>0.0</td>\n",
       "      <td>0.0</td>\n",
       "      <td>1.0</td>\n",
       "      <td>1.0</td>\n",
       "      <td>1.0</td>\n",
       "    </tr>\n",
       "    <tr>\n",
       "      <th>cp</th>\n",
       "      <td>303.0</td>\n",
       "      <td>0.966997</td>\n",
       "      <td>1.032052</td>\n",
       "      <td>0.0</td>\n",
       "      <td>0.0</td>\n",
       "      <td>1.0</td>\n",
       "      <td>2.0</td>\n",
       "      <td>3.0</td>\n",
       "    </tr>\n",
       "    <tr>\n",
       "      <th>trestbps</th>\n",
       "      <td>303.0</td>\n",
       "      <td>131.623762</td>\n",
       "      <td>17.538143</td>\n",
       "      <td>94.0</td>\n",
       "      <td>120.0</td>\n",
       "      <td>130.0</td>\n",
       "      <td>140.0</td>\n",
       "      <td>200.0</td>\n",
       "    </tr>\n",
       "    <tr>\n",
       "      <th>chol</th>\n",
       "      <td>303.0</td>\n",
       "      <td>246.264026</td>\n",
       "      <td>51.830751</td>\n",
       "      <td>126.0</td>\n",
       "      <td>211.0</td>\n",
       "      <td>240.0</td>\n",
       "      <td>274.5</td>\n",
       "      <td>564.0</td>\n",
       "    </tr>\n",
       "    <tr>\n",
       "      <th>fbs</th>\n",
       "      <td>303.0</td>\n",
       "      <td>0.148515</td>\n",
       "      <td>0.356198</td>\n",
       "      <td>0.0</td>\n",
       "      <td>0.0</td>\n",
       "      <td>0.0</td>\n",
       "      <td>0.0</td>\n",
       "      <td>1.0</td>\n",
       "    </tr>\n",
       "    <tr>\n",
       "      <th>restecg</th>\n",
       "      <td>303.0</td>\n",
       "      <td>0.528053</td>\n",
       "      <td>0.525860</td>\n",
       "      <td>0.0</td>\n",
       "      <td>0.0</td>\n",
       "      <td>1.0</td>\n",
       "      <td>1.0</td>\n",
       "      <td>2.0</td>\n",
       "    </tr>\n",
       "    <tr>\n",
       "      <th>thalach</th>\n",
       "      <td>303.0</td>\n",
       "      <td>149.646865</td>\n",
       "      <td>22.905161</td>\n",
       "      <td>71.0</td>\n",
       "      <td>133.5</td>\n",
       "      <td>153.0</td>\n",
       "      <td>166.0</td>\n",
       "      <td>202.0</td>\n",
       "    </tr>\n",
       "    <tr>\n",
       "      <th>exang</th>\n",
       "      <td>303.0</td>\n",
       "      <td>0.326733</td>\n",
       "      <td>0.469794</td>\n",
       "      <td>0.0</td>\n",
       "      <td>0.0</td>\n",
       "      <td>0.0</td>\n",
       "      <td>1.0</td>\n",
       "      <td>1.0</td>\n",
       "    </tr>\n",
       "    <tr>\n",
       "      <th>oldpeak</th>\n",
       "      <td>303.0</td>\n",
       "      <td>1.039604</td>\n",
       "      <td>1.161075</td>\n",
       "      <td>0.0</td>\n",
       "      <td>0.0</td>\n",
       "      <td>0.8</td>\n",
       "      <td>1.6</td>\n",
       "      <td>6.2</td>\n",
       "    </tr>\n",
       "    <tr>\n",
       "      <th>slope</th>\n",
       "      <td>303.0</td>\n",
       "      <td>1.399340</td>\n",
       "      <td>0.616226</td>\n",
       "      <td>0.0</td>\n",
       "      <td>1.0</td>\n",
       "      <td>1.0</td>\n",
       "      <td>2.0</td>\n",
       "      <td>2.0</td>\n",
       "    </tr>\n",
       "    <tr>\n",
       "      <th>ca</th>\n",
       "      <td>303.0</td>\n",
       "      <td>0.729373</td>\n",
       "      <td>1.022606</td>\n",
       "      <td>0.0</td>\n",
       "      <td>0.0</td>\n",
       "      <td>0.0</td>\n",
       "      <td>1.0</td>\n",
       "      <td>4.0</td>\n",
       "    </tr>\n",
       "    <tr>\n",
       "      <th>thal</th>\n",
       "      <td>303.0</td>\n",
       "      <td>2.313531</td>\n",
       "      <td>0.612277</td>\n",
       "      <td>0.0</td>\n",
       "      <td>2.0</td>\n",
       "      <td>2.0</td>\n",
       "      <td>3.0</td>\n",
       "      <td>3.0</td>\n",
       "    </tr>\n",
       "  </tbody>\n",
       "</table>\n",
       "</div>"
      ],
      "text/plain": [
       "          count        mean        std    min    25%    50%    75%    max\n",
       "age       303.0   54.366337   9.082101   29.0   47.5   55.0   61.0   77.0\n",
       "sex       303.0    0.683168   0.466011    0.0    0.0    1.0    1.0    1.0\n",
       "cp        303.0    0.966997   1.032052    0.0    0.0    1.0    2.0    3.0\n",
       "trestbps  303.0  131.623762  17.538143   94.0  120.0  130.0  140.0  200.0\n",
       "chol      303.0  246.264026  51.830751  126.0  211.0  240.0  274.5  564.0\n",
       "fbs       303.0    0.148515   0.356198    0.0    0.0    0.0    0.0    1.0\n",
       "restecg   303.0    0.528053   0.525860    0.0    0.0    1.0    1.0    2.0\n",
       "thalach   303.0  149.646865  22.905161   71.0  133.5  153.0  166.0  202.0\n",
       "exang     303.0    0.326733   0.469794    0.0    0.0    0.0    1.0    1.0\n",
       "oldpeak   303.0    1.039604   1.161075    0.0    0.0    0.8    1.6    6.2\n",
       "slope     303.0    1.399340   0.616226    0.0    1.0    1.0    2.0    2.0\n",
       "ca        303.0    0.729373   1.022606    0.0    0.0    0.0    1.0    4.0\n",
       "thal      303.0    2.313531   0.612277    0.0    2.0    2.0    3.0    3.0"
      ]
     },
     "execution_count": 8,
     "metadata": {},
     "output_type": "execute_result"
    }
   ],
   "source": [
    "X.describe().T"
   ]
  },
  {
   "cell_type": "markdown",
   "metadata": {},
   "source": [
    "#### Examine the mean and standard deviation for each attribute."
   ]
  },
  {
   "cell_type": "code",
   "execution_count": 9,
   "metadata": {},
   "outputs": [
    {
     "data": {
      "text/html": [
       "<div>\n",
       "<style scoped>\n",
       "    .dataframe tbody tr th:only-of-type {\n",
       "        vertical-align: middle;\n",
       "    }\n",
       "\n",
       "    .dataframe tbody tr th {\n",
       "        vertical-align: top;\n",
       "    }\n",
       "\n",
       "    .dataframe thead th {\n",
       "        text-align: right;\n",
       "    }\n",
       "</style>\n",
       "<table border=\"1\" class=\"dataframe\">\n",
       "  <thead>\n",
       "    <tr style=\"text-align: right;\">\n",
       "      <th></th>\n",
       "      <th>age</th>\n",
       "      <th>sex</th>\n",
       "      <th>cp</th>\n",
       "      <th>trestbps</th>\n",
       "      <th>chol</th>\n",
       "      <th>fbs</th>\n",
       "      <th>restecg</th>\n",
       "      <th>thalach</th>\n",
       "      <th>exang</th>\n",
       "      <th>oldpeak</th>\n",
       "      <th>slope</th>\n",
       "      <th>ca</th>\n",
       "      <th>thal</th>\n",
       "    </tr>\n",
       "  </thead>\n",
       "  <tbody>\n",
       "    <tr>\n",
       "      <th>mean</th>\n",
       "      <td>54.366337</td>\n",
       "      <td>0.683168</td>\n",
       "      <td>0.966997</td>\n",
       "      <td>131.623762</td>\n",
       "      <td>246.264026</td>\n",
       "      <td>0.148515</td>\n",
       "      <td>0.528053</td>\n",
       "      <td>149.646865</td>\n",
       "      <td>0.326733</td>\n",
       "      <td>1.039604</td>\n",
       "      <td>1.399340</td>\n",
       "      <td>0.729373</td>\n",
       "      <td>2.313531</td>\n",
       "    </tr>\n",
       "    <tr>\n",
       "      <th>std</th>\n",
       "      <td>9.082101</td>\n",
       "      <td>0.466011</td>\n",
       "      <td>1.032052</td>\n",
       "      <td>17.538143</td>\n",
       "      <td>51.830751</td>\n",
       "      <td>0.356198</td>\n",
       "      <td>0.525860</td>\n",
       "      <td>22.905161</td>\n",
       "      <td>0.469794</td>\n",
       "      <td>1.161075</td>\n",
       "      <td>0.616226</td>\n",
       "      <td>1.022606</td>\n",
       "      <td>0.612277</td>\n",
       "    </tr>\n",
       "  </tbody>\n",
       "</table>\n",
       "</div>"
      ],
      "text/plain": [
       "            age       sex        cp    trestbps        chol       fbs  \\\n",
       "mean  54.366337  0.683168  0.966997  131.623762  246.264026  0.148515   \n",
       "std    9.082101  0.466011  1.032052   17.538143   51.830751  0.356198   \n",
       "\n",
       "       restecg     thalach     exang   oldpeak     slope        ca      thal  \n",
       "mean  0.528053  149.646865  0.326733  1.039604  1.399340  0.729373  2.313531  \n",
       "std   0.525860   22.905161  0.469794  1.161075  0.616226  1.022606  0.612277  "
      ]
     },
     "execution_count": 9,
     "metadata": {},
     "output_type": "execute_result"
    }
   ],
   "source": [
    "X.agg({ col:['mean', 'std'] for col in X.columns})"
   ]
  },
  {
   "cell_type": "markdown",
   "metadata": {},
   "source": [
    "#### Check for outliers using box plots"
   ]
  },
  {
   "cell_type": "code",
   "execution_count": 10,
   "metadata": {},
   "outputs": [
    {
     "data": {
      "image/png": "[encoded data removed]",
      "text/plain": [
       "<Figure size 1500x800 with 1 Axes>"
      ]
     },
     "metadata": {},
     "output_type": "display_data"
    }
   ],
   "source": [
    "plt.figure(figsize=(15, 8))\n",
    "sns.boxplot(data=X, palette=\"Set2\")\n",
    "plt.title(\"Boxplot to Identify Outliers\")\n",
    "plt.show()"
   ]
  },
  {
   "cell_type": "markdown",
   "metadata": {},
   "source": [
    "#### Perform data cleaning (handle missing values, outliers, etc.)\n",
    "For simplicity, you can fill missing values with the mean for numerical features"
   ]
  },
  {
   "cell_type": "code",
   "execution_count": 11,
   "metadata": {},
   "outputs": [],
   "source": [
    "X.fillna(X.mean(), inplace=True)"
   ]
  },
  {
   "cell_type": "markdown",
   "metadata": {},
   "source": [
    "#### Verify that missing values are filled"
   ]
  },
  {
   "cell_type": "code",
   "execution_count": 12,
   "metadata": {},
   "outputs": [
    {
     "name": "stdout",
     "output_type": "stream",
     "text": [
      "\n",
      "Missing values after filling:\n",
      "age         0\n",
      "sex         0\n",
      "cp          0\n",
      "trestbps    0\n",
      "chol        0\n",
      "fbs         0\n",
      "restecg     0\n",
      "thalach     0\n",
      "exang       0\n",
      "oldpeak     0\n",
      "slope       0\n",
      "ca          0\n",
      "thal        0\n",
      "dtype: int64\n"
     ]
    }
   ],
   "source": [
    "print(\"\\nMissing values after filling:\")\n",
    "print(X.isnull().sum())"
   ]
  },
  {
   "cell_type": "markdown",
   "metadata": {},
   "source": [
    "### Task 2: Classification Task: \n",
    "** Note: Assume preprocessing has been done before this task. \n",
    "- Split the dataset into training and testing sets.\n",
    "  * random_state=41: setting a random_state ensures reproducibility. If you use the same random seed, you will get the same results each time you run the code.\n",
    "  * stratify=y: ensures that the proportion of each class in y is maintained in both the training and testing sets. This is particularly important when dealing with imbalanced datasets or when the distribution of classes in the target variable is essential for model training and evaluation.\n",
    "- Choose a classification algorithm (or a bunch) (e.g. Decision Trees, SVM, Nueral Network, Randome forest).\n",
    "- Train the model using the training set. - Make predictions on thetesting set.\n",
    "- Evaluate the model's performance using appropriate metrics (accuracy, precision, recall, F1-score).\n",
    "- Generate the classification report and confusion matrix."
   ]
  },
  {
   "cell_type": "code",
   "execution_count": 13,
   "metadata": {},
   "outputs": [],
   "source": [
    "# Split the dataset into training, testing, and validation sets using stratified sampling\n",
    "X_train, X_test, y_train, y_test = train_test_split(X, y, test_size=0.3, random_state=3, stratify=y)                                      "
   ]
  },
  {
   "cell_type": "code",
   "execution_count": 14,
   "metadata": {},
   "outputs": [],
   "source": [
    "# Choose a classification algorithm (Decision Tree Classifier as an example)\n",
    "model = DecisionTreeClassifier(random_state=3)"
   ]
  },
  {
   "cell_type": "code",
   "execution_count": 15,
   "metadata": {},
   "outputs": [
    {
     "data": {
      "text/html": [
       "<style>#sk-container-id-1 {color: black;background-color: white;}#sk-container-id-1 pre{padding: 0;}#sk-container-id-1 div.sk-toggleable {background-color: white;}#sk-container-id-1 label.sk-toggleable__label {cursor: pointer;display: block;width: 100%;margin-bottom: 0;padding: 0.3em;box-sizing: border-box;text-align: center;}#sk-container-id-1 label.sk-toggleable__label-arrow:before {content: \"▸\";float: left;margin-right: 0.25em;color: #696969;}#sk-container-id-1 label.sk-toggleable__label-arrow:hover:before {color: black;}#sk-container-id-1 div.sk-estimator:hover label.sk-toggleable__label-arrow:before {color: black;}#sk-container-id-1 div.sk-toggleable__content {max-height: 0;max-width: 0;overflow: hidden;text-align: left;background-color: #f0f8ff;}#sk-container-id-1 div.sk-toggleable__content pre {margin: 0.2em;color: black;border-radius: 0.25em;background-color: #f0f8ff;}#sk-container-id-1 input.sk-toggleable__control:checked~div.sk-toggleable__content {max-height: 200px;max-width: 100%;overflow: auto;}#sk-container-id-1 input.sk-toggleable__control:checked~label.sk-toggleable__label-arrow:before {content: \"▾\";}#sk-container-id-1 div.sk-estimator input.sk-toggleable__control:checked~label.sk-toggleable__label {background-color: #d4ebff;}#sk-container-id-1 div.sk-label input.sk-toggleable__control:checked~label.sk-toggleable__label {background-color: #d4ebff;}#sk-container-id-1 input.sk-hidden--visually {border: 0;clip: rect(1px 1px 1px 1px);clip: rect(1px, 1px, 1px, 1px);height: 1px;margin: -1px;overflow: hidden;padding: 0;position: absolute;width: 1px;}#sk-container-id-1 div.sk-estimator {font-family: monospace;background-color: #f0f8ff;border: 1px dotted black;border-radius: 0.25em;box-sizing: border-box;margin-bottom: 0.5em;}#sk-container-id-1 div.sk-estimator:hover {background-color: #d4ebff;}#sk-container-id-1 div.sk-parallel-item::after {content: \"\";width: 100%;border-bottom: 1px solid gray;flex-grow: 1;}#sk-container-id-1 div.sk-label:hover label.sk-toggleable__label {background-color: #d4ebff;}#sk-container-id-1 div.sk-serial::before {content: \"\";position: absolute;border-left: 1px solid gray;box-sizing: border-box;top: 0;bottom: 0;left: 50%;z-index: 0;}#sk-container-id-1 div.sk-serial {display: flex;flex-direction: column;align-items: center;background-color: white;padding-right: 0.2em;padding-left: 0.2em;position: relative;}#sk-container-id-1 div.sk-item {position: relative;z-index: 1;}#sk-container-id-1 div.sk-parallel {display: flex;align-items: stretch;justify-content: center;background-color: white;position: relative;}#sk-container-id-1 div.sk-item::before, #sk-container-id-1 div.sk-parallel-item::before {content: \"\";position: absolute;border-left: 1px solid gray;box-sizing: border-box;top: 0;bottom: 0;left: 50%;z-index: -1;}#sk-container-id-1 div.sk-parallel-item {display: flex;flex-direction: column;z-index: 1;position: relative;background-color: white;}#sk-container-id-1 div.sk-parallel-item:first-child::after {align-self: flex-end;width: 50%;}#sk-container-id-1 div.sk-parallel-item:last-child::after {align-self: flex-start;width: 50%;}#sk-container-id-1 div.sk-parallel-item:only-child::after {width: 0;}#sk-container-id-1 div.sk-dashed-wrapped {border: 1px dashed gray;margin: 0 0.4em 0.5em 0.4em;box-sizing: border-box;padding-bottom: 0.4em;background-color: white;}#sk-container-id-1 div.sk-label label {font-family: monospace;font-weight: bold;display: inline-block;line-height: 1.2em;}#sk-container-id-1 div.sk-label-container {text-align: center;}#sk-container-id-1 div.sk-container {/* jupyter's `normalize.less` sets `[hidden] { display: none; }` but bootstrap.min.css set `[hidden] { display: none !important; }` so we also need the `!important` here to be able to override the default hidden behavior on the sphinx rendered scikit-learn.org. See: https://github.com/scikit-learn/scikit-learn/issues/21755 */display: inline-block !important;position: relative;}#sk-container-id-1 div.sk-text-repr-fallback {display: none;}</style><div id=\"sk-container-id-1\" class=\"sk-top-container\"><div class=\"sk-text-repr-fallback\"><pre>DecisionTreeClassifier(random_state=3)</pre><b>In a Jupyter environment, please rerun this cell to show the HTML representation or trust the notebook. <br />On GitHub, the HTML representation is unable to render, please try loading this page with nbviewer.org.</b></div><div class=\"sk-container\" hidden><div class=\"sk-item\"><div class=\"sk-estimator sk-toggleable\"><input class=\"sk-toggleable__control sk-hidden--visually\" id=\"sk-estimator-id-1\" type=\"checkbox\" checked><label for=\"sk-estimator-id-1\" class=\"sk-toggleable__label sk-toggleable__label-arrow\">DecisionTreeClassifier</label><div class=\"sk-toggleable__content\"><pre>DecisionTreeClassifier(random_state=3)</pre></div></div></div></div></div>"
      ],
      "text/plain": [
       "DecisionTreeClassifier(random_state=3)"
      ]
     },
     "execution_count": 15,
     "metadata": {},
     "output_type": "execute_result"
    }
   ],
   "source": [
    "# Train the model using the training set\n",
    "model.fit(X_train, y_train)"
   ]
  },
  {
   "cell_type": "code",
   "execution_count": 16,
   "metadata": {},
   "outputs": [],
   "source": [
    "# Make predictions on the testing set\n",
    "y_pred = model.predict(X_test)"
   ]
  },
  {
   "cell_type": "code",
   "execution_count": 17,
   "metadata": {},
   "outputs": [
    {
     "name": "stdout",
     "output_type": "stream",
     "text": [
      "Accuracy: 0.6374\n",
      "Precision: 0.6735\n",
      "Recall: 0.6600\n",
      "F1 Score: 0.6667\n"
     ]
    }
   ],
   "source": [
    "# Evaluate the model's performance using appropriate metrics\n",
    "accuracy = accuracy_score(y_test, y_pred)\n",
    "precision = precision_score(y_test, y_pred)\n",
    "recall = recall_score(y_test, y_pred)\n",
    "f1 = f1_score(y_test, y_pred)\n",
    "\n",
    "# Display the evaluation metrics\n",
    "print(f\"Accuracy: {accuracy:.4f}\")\n",
    "print(f\"Precision: {precision:.4f}\")\n",
    "print(f\"Recall: {recall:.4f}\")\n",
    "print(f\"F1 Score: {f1:.4f}\")"
   ]
  },
  {
   "cell_type": "code",
   "execution_count": 18,
   "metadata": {},
   "outputs": [
    {
     "name": "stdout",
     "output_type": "stream",
     "text": [
      "Classification Report:\n",
      "               precision    recall  f1-score   support\n",
      "\n",
      "           0       0.60      0.61      0.60        41\n",
      "           1       0.67      0.66      0.67        50\n",
      "\n",
      "    accuracy                           0.64        91\n",
      "   macro avg       0.63      0.63      0.63        91\n",
      "weighted avg       0.64      0.64      0.64        91\n",
      "\n"
     ]
    }
   ],
   "source": [
    "# Generate the classification report\n",
    "report = classification_report(y_test, y_pred)\n",
    "\n",
    "# Display the classification report\n",
    "print(\"Classification Report:\\n\", report)"
   ]
  },
  {
   "cell_type": "code",
   "execution_count": 19,
   "metadata": {},
   "outputs": [
    {
     "data": {
      "text/plain": [
       "<sklearn.metrics._plot.confusion_matrix.ConfusionMatrixDisplay at 0x2f0f87fab50>"
      ]
     },
     "execution_count": 19,
     "metadata": {},
     "output_type": "execute_result"
    },
    {
     "data": {
      "image/png": "[encoded data removed]",
      "text/plain": [
       "<Figure size 640x480 with 2 Axes>"
      ]
     },
     "metadata": {},
     "output_type": "display_data"
    }
   ],
   "source": [
    "\n",
    "plot_confusion_matrix(model, X_test, y_test)"
   ]
  },
  {
   "cell_type": "markdown",
   "metadata": {},
   "source": [
    "### Task 3: Parameter Tuning:\n",
    "- Investigate the hyperparameters of the chosen algorithm.\n",
    "- Create a pipeline with scaling/transformation and classification stages.\n",
    "- Use grid search or random search to find the optimal hyperparameters. \n",
    "- Re-train the model with the tuned hyperparameters. \n",
    "- Evaluate the tuned model on the testing set.\n",
    "- Assess overfitting or underfitting using the accuracy metric (the tuned model).\n",
    "- Plot the precision and recall for the built pipeline."
   ]
  },
  {
   "cell_type": "code",
   "execution_count": 20,
   "metadata": {},
   "outputs": [
    {
     "name": "stdout",
     "output_type": "stream",
     "text": [
      "Best Hyperparameters (Decision Tree): {'classifier__criterion': 'gini', 'classifier__max_depth': None, 'classifier__min_samples_leaf': 4, 'classifier__min_samples_split': 2}\n",
      "\n",
      "Performance of the Tuned Decision Tree Model:\n",
      "Accuracy on Testing Set: 0.7363\n"
     ]
    }
   ],
   "source": [
    "# Choose classification algorithms (Decision Tree)\n",
    "classifier_decision_tree = DecisionTreeClassifier(random_state=3)\n",
    "\n",
    "# Define hyperparameter grids for grid search\n",
    "param_grid_decision_tree = {\n",
    "    'classifier__criterion': ['gini', 'entropy'],\n",
    "    'classifier__max_depth': [None, 10, 20, 30],\n",
    "    'classifier__min_samples_split': [2, 5, 10],\n",
    "    'classifier__min_samples_leaf': [1, 2, 4]\n",
    "}\n",
    "\n",
    "# Create a pipeline with scaling/transformation and classification stages\n",
    "pipeline_decision_tree = Pipeline([\n",
    "    ('scaler', StandardScaler()), \n",
    "    ('classifier', classifier_decision_tree)\n",
    "])\n",
    "\n",
    "# Perform Grid Search to find the optimal hyperparameters for Decision Tree\n",
    "grid_search_decision_tree = GridSearchCV(estimator=pipeline_decision_tree, param_grid=param_grid_decision_tree, cv=5, scoring='accuracy')\n",
    "grid_search_decision_tree.fit(X_train, y_train)\n",
    "\n",
    "# Get the best hyperparameters for Decision Tree\n",
    "best_params_decision_tree = grid_search_decision_tree.best_params_\n",
    "print(\"Best Hyperparameters (Decision Tree):\", best_params_decision_tree)\n",
    "\n",
    "# Retrain the Decision Tree model with the tuned hyperparameters\n",
    "tuned_pipeline_decision_tree = grid_search_decision_tree.best_estimator_\n",
    "tuned_pipeline_decision_tree.fit(X_train, y_train)\n",
    "\n",
    "# Evaluate the tuned Decision Tree model on the testing set\n",
    "y_pred_tuned_decision_tree = tuned_pipeline_decision_tree.predict(X_test)\n",
    "\n",
    "# Evaluate the model's performance for Decision Tree\n",
    "accuracy_tuned_decision_tree = accuracy_score(y_test, y_pred_tuned_decision_tree)\n",
    "\n",
    "print(\"\\nPerformance of the Tuned Decision Tree Model:\")\n",
    "print(f\"Accuracy on Testing Set: {accuracy_tuned_decision_tree:.4f}\")\n"
   ]
  },
  {
   "cell_type": "code",
   "execution_count": 21,
   "metadata": {},
   "outputs": [
    {
     "name": "stdout",
     "output_type": "stream",
     "text": [
      "\n",
      "Performance of the Tuned Model:\n",
      "Accuracy: 0.7363\n",
      "\n",
      "Classification Report:\n",
      "              precision    recall  f1-score   support\n",
      "\n",
      "           0       0.67      0.80      0.73        41\n",
      "           1       0.81      0.68      0.74        50\n",
      "\n",
      "    accuracy                           0.74        91\n",
      "   macro avg       0.74      0.74      0.74        91\n",
      "weighted avg       0.75      0.74      0.74        91\n",
      "\n"
     ]
    }
   ],
   "source": [
    "# Evaluate the tuned model on the testing set\n",
    "y_pred_tuned_decision_tree = tuned_pipeline_decision_tree.predict(X_test)\n",
    "\n",
    "# Generate the classification report\n",
    "report_tuned_decision_tree = classification_report(y_test, y_pred_tuned_decision_tree)\n",
    "\n",
    "# Display the evaluation metrics for the tuned model\n",
    "print(\"\\nPerformance of the Tuned Model:\")\n",
    "print(f\"Accuracy: {accuracy_tuned_decision_tree:.4f}\")\n",
    "print(\"\\nClassification Report:\")\n",
    "print(report_tuned_decision_tree)"
   ]
  },
  {
   "cell_type": "code",
   "execution_count": 22,
   "metadata": {},
   "outputs": [
    {
     "name": "stdout",
     "output_type": "stream",
     "text": [
      "Metrics on Training Set:\n",
      "Accuracy: 0.9104, Precision: 0.9528, Recall: 0.8783, F1-Score: 0.9140\n",
      "\n",
      "Metrics on Testing Set:\n",
      "Accuracy: 0.7363, Precision: 0.8095, Recall: 0.6800, F1-Score: 0.7391\n",
      "The Decision Tree model might be overfitted.\n"
     ]
    }
   ],
   "source": [
    "# Assess overfitting or underfitting using the accuracy metric (the tuned model).\n",
    "\n",
    "# Make predictions on both training and testing sets\n",
    "y_pred_train_decision_tree = tuned_pipeline_decision_tree.predict(X_train)\n",
    "y_pred_test_decision_tree = tuned_pipeline_decision_tree.predict(X_test)\n",
    "\n",
    "# Evaluate the model's performance on both sets\n",
    "accuracy_train_decision_tree = accuracy_score(y_train, y_pred_train_decision_tree)\n",
    "accuracy_test_decision_tree = accuracy_score(y_test, y_pred_test_decision_tree)\n",
    "\n",
    "# Additional metrics\n",
    "precision_train_decision_tree = precision_score(y_train, y_pred_train_decision_tree)\n",
    "recall_train_decision_tree = recall_score(y_train, y_pred_train_decision_tree)\n",
    "f1_train_decision_tree = f1_score(y_train, y_pred_train_decision_tree)\n",
    "\n",
    "precision_test_decision_tree = precision_score(y_test, y_pred_test_decision_tree)\n",
    "recall_test_decision_tree = recall_score(y_test, y_pred_test_decision_tree)\n",
    "f1_test_decision_tree = f1_score(y_test, y_pred_test_decision_tree)\n",
    "\n",
    "# Display the accuracies and additional metrics for both sets\n",
    "print(\"Metrics on Training Set:\")\n",
    "print(f\"Accuracy: {accuracy_train_decision_tree:.4f}, Precision: {precision_train_decision_tree:.4f}, Recall: {recall_train_decision_tree:.4f}, F1-Score: {f1_train_decision_tree:.4f}\")\n",
    "\n",
    "print(\"\\nMetrics on Testing Set:\")\n",
    "print(f\"Accuracy: {accuracy_test_decision_tree:.4f}, Precision: {precision_test_decision_tree:.4f}, Recall: {recall_test_decision_tree:.4f}, F1-Score: {f1_test_decision_tree:.4f}\")\n",
    "\n",
    "# Assess overfitting or underfitting\n",
    "if accuracy_train_decision_tree  > accuracy_test_decision_tree :\n",
    "    print(\"The Decision Tree model might be overfitted.\")\n",
    "elif accuracy_train_decision_tree  < accuracy_test_decision_tree :\n",
    "    print(\"The Decision Tree model might be underfitted.\")\n",
    "else:\n",
    "    print(\"The Decision Tree model seems well-fitted.\")"
   ]
  },
  {
   "cell_type": "markdown",
   "metadata": {},
   "source": [
    "### classification algorithms (SVC)"
   ]
  },
  {
   "cell_type": "code",
   "execution_count": 23,
   "metadata": {},
   "outputs": [
    {
     "name": "stdout",
     "output_type": "stream",
     "text": [
      "\n",
      "Best Hyperparameters (SVC): {'classifier__C': 0.1, 'classifier__gamma': 'scale', 'classifier__kernel': 'linear'}\n",
      "\n",
      "Performance of the Tuned SVC Model:\n",
      "Accuracy on Testing Set: 0.8132\n"
     ]
    }
   ],
   "source": [
    "# Choose classification algorithms (SVC)\n",
    "classifier_svc = SVC(random_state=3)\n",
    "\n",
    "# Define hyperparameter grids for grid search\n",
    "param_grid_svc = {\n",
    "    'classifier__C': [0.1, 1, 10],\n",
    "    'classifier__kernel': ['linear', 'rbf', 'poly'],\n",
    "    'classifier__gamma': ['scale', 'auto']\n",
    "}\n",
    "\n",
    "# Create a pipeline with scaling/transformation and classification stages\n",
    "pipeline_svc = Pipeline([\n",
    "    ('scaler', StandardScaler()),  # Add any necessary scaling or transformations\n",
    "    ('classifier', classifier_svc)\n",
    "])\n",
    "\n",
    "# Perform Grid Search to find the optimal hyperparameters for SVC\n",
    "grid_search_svc = GridSearchCV(estimator=pipeline_svc, param_grid=param_grid_svc, cv=5, scoring='accuracy')\n",
    "grid_search_svc.fit(X_train, y_train)\n",
    "\n",
    "# Get the best hyperparameters for SVC\n",
    "best_params_svc = grid_search_svc.best_params_\n",
    "print(\"\\nBest Hyperparameters (SVC):\", best_params_svc)\n",
    "\n",
    "# Retrain the SVC model with the tuned hyperparameters\n",
    "tuned_pipeline_svc = grid_search_svc.best_estimator_\n",
    "tuned_pipeline_svc.fit(X_train, y_train)\n",
    "\n",
    "# Evaluate the tuned SVC model on the testing set\n",
    "y_pred_tuned_svc = tuned_pipeline_svc.predict(X_test)\n",
    "\n",
    "# Evaluate the model's performance for SVC\n",
    "accuracy_tuned_svc = accuracy_score(y_test, y_pred_tuned_svc)\n",
    "print(\"\\nPerformance of the Tuned SVC Model:\")\n",
    "print(f\"Accuracy on Testing Set: {accuracy_tuned_svc:.4f}\")"
   ]
  },
  {
   "cell_type": "code",
   "execution_count": 24,
   "metadata": {},
   "outputs": [
    {
     "name": "stdout",
     "output_type": "stream",
     "text": [
      "\n",
      "Performance of the Tuned Model:\n",
      "Accuracy: 0.8132\n",
      "\n",
      "Classification Report:\n",
      "              precision    recall  f1-score   support\n",
      "\n",
      "           0       0.85      0.71      0.77        41\n",
      "           1       0.79      0.90      0.84        50\n",
      "\n",
      "    accuracy                           0.81        91\n",
      "   macro avg       0.82      0.80      0.81        91\n",
      "weighted avg       0.82      0.81      0.81        91\n",
      "\n"
     ]
    }
   ],
   "source": [
    "# Evaluate the tuned model on the testing set\n",
    "y_pred_tuned_svc = tuned_pipeline_svc.predict(X_test)\n",
    "\n",
    "# Generate the classification report\n",
    "report_tuned_svc = classification_report(y_test, y_pred_tuned_svc)\n",
    "\n",
    "# Display the evaluation metrics for the tuned model\n",
    "print(\"\\nPerformance of the Tuned Model:\")\n",
    "print(f\"Accuracy: {accuracy_tuned_svc:.4f}\")\n",
    "print(\"\\nClassification Report:\")\n",
    "print(report_tuned_svc)"
   ]
  },
  {
   "cell_type": "code",
   "execution_count": 25,
   "metadata": {},
   "outputs": [
    {
     "name": "stdout",
     "output_type": "stream",
     "text": [
      "Metrics on Training Set:\n",
      "Accuracy: 0.8538, Precision: 0.8231, Recall: 0.9304, F1-Score: 0.8735\n",
      "\n",
      "Metrics on Testing Set:\n",
      "Accuracy: 0.8132, Precision: 0.7895, Recall: 0.9000, F1-Score: 0.8411\n",
      "The SVC model might be overfitted.\n"
     ]
    }
   ],
   "source": [
    "#Assess overfitting or underfitting using the accuracy metric (the tuned model).\n",
    "\n",
    "# Make predictions on both training and testing sets\n",
    "y_pred_train_svc = tuned_pipeline_svc.predict(X_train)\n",
    "y_pred_test_svc = tuned_pipeline_svc.predict(X_test)\n",
    "\n",
    "# Evaluate the model's performance on both sets\n",
    "accuracy_train_svc = accuracy_score(y_train, y_pred_train_svc)\n",
    "accuracy_test_svc = accuracy_score(y_test, y_pred_test_svc)\n",
    "\n",
    "# Additional metrics\n",
    "precision_train_svc = precision_score(y_train, y_pred_train_svc)\n",
    "recall_train_svc = recall_score(y_train, y_pred_train_svc)\n",
    "f1_train_svc = f1_score(y_train, y_pred_train_svc)\n",
    "\n",
    "precision_test_svc = precision_score(y_test, y_pred_test_svc)\n",
    "recall_test_svc = recall_score(y_test, y_pred_test_svc)\n",
    "f1_test_svc = f1_score(y_test, y_pred_test_svc)\n",
    "\n",
    "# Display the accuracies and additional metrics for both sets\n",
    "print(\"Metrics on Training Set:\")\n",
    "print(f\"Accuracy: {accuracy_train_svc:.4f}, Precision: {precision_train_svc:.4f}, Recall: {recall_train_svc:.4f}, F1-Score: {f1_train_svc:.4f}\")\n",
    "\n",
    "print(\"\\nMetrics on Testing Set:\")\n",
    "print(f\"Accuracy: {accuracy_test_svc:.4f}, Precision: {precision_test_svc:.4f}, Recall: {recall_test_svc:.4f}, F1-Score: {f1_test_svc:.4f}\")\n",
    "\n",
    "# Assess overfitting or underfitting\n",
    "if accuracy_train_svc  > accuracy_test_svc :\n",
    "    print(\"The SVC model might be overfitted.\")\n",
    "elif accuracy_train_svc  < accuracy_test_svc :\n",
    "    print(\"The SVC model might be underfitted.\")\n",
    "else:\n",
    "    print(\"The SVC model seems well-fitted.\")"
   ]
  },
  {
   "cell_type": "markdown",
   "metadata": {},
   "source": [
    "#### Plot the precision and recall for the pipeline you have built"
   ]
  },
  {
   "cell_type": "code",
   "execution_count": 26,
   "metadata": {},
   "outputs": [
    {
     "data": {
      "image/png": "[encoded data removed]",
      "text/plain": [
       "<Figure size 1000x600 with 1 Axes>"
      ]
     },
     "metadata": {},
     "output_type": "display_data"
    }
   ],
   "source": [
    "# Predict probabilities for each class for Decision Tree\n",
    "probas_decision_tree = tuned_pipeline_decision_tree.predict_proba(X_test)\n",
    "precision_decision_tree, recall_decision_tree, _ = precision_recall_curve(y_test, probas_decision_tree[:, 1])\n",
    "average_precision_decision_tree = average_precision_score(y_test, probas_decision_tree[:, 1])\n",
    "\n",
    "# Predict probabilities for each class for SVC\n",
    "probas_svc = tuned_pipeline_svc.decision_function(X_test)\n",
    "precision_svc, recall_svc, _ = precision_recall_curve(y_test, probas_svc)\n",
    "average_precision_svc = average_precision_score(y_test, probas_svc)\n",
    "\n",
    "# Plot Precision-Recall curves\n",
    "plt.figure(figsize=(10, 6))\n",
    "\n",
    "# Decision Tree\n",
    "plt.plot(recall_decision_tree, precision_decision_tree, label=f'Decision Tree (AP={average_precision_decision_tree:.2f})')\n",
    "\n",
    "# SVC\n",
    "plt.plot(recall_svc, precision_svc, label=f'SVC (AP={average_precision_svc:.2f})')\n",
    "\n",
    "# Plot settings\n",
    "plt.xlabel('Recall')\n",
    "plt.ylabel('Precision')\n",
    "plt.title('Precision-Recall Curve')\n",
    "plt.legend()\n",
    "plt.grid(True)\n",
    "plt.show()"
   ]
  },
  {
   "cell_type": "markdown",
   "metadata": {},
   "source": [
    "### Task 4: Model Comparison \n",
    "- Choose another classification algorithm (e.g. SVC, Decision Tree, Random Forest).\n",
    "- Train the second model using the same training set.\n",
    "- Compare the performance of the two models using appropriate metrics:\n",
    "    - Accuracy\n",
    "    - Precision\n",
    "    - Recall\n",
    "    - F1-Score\n",
    "- Select the best-performing model.\n"
   ]
  },
  {
   "cell_type": "code",
   "execution_count": 27,
   "metadata": {},
   "outputs": [
    {
     "name": "stdout",
     "output_type": "stream",
     "text": [
      "Performance Metrics for Decision Tree:\n",
      "{'Accuracy': 0.7362637362637363, 'Precision': 0.8095238095238095, 'Recall': 0.68, 'F1 Score': 0.7391304347826089, 'ROC AUC': 0.7424390243902441}\n",
      "\n",
      "Performance Metrics for SVC:\n",
      "{'Accuracy': 0.8131868131868132, 'Precision': 0.7894736842105263, 'Recall': 0.9, 'F1 Score': 0.8411214953271027, 'ROC AUC': 0.8036585365853658}\n",
      "\n",
      "Performance Metrics for Random Forest:\n",
      "{'Accuracy': 0.7912087912087912, 'Precision': 0.8163265306122449, 'Recall': 0.8, 'F1 Score': 0.8080808080808082, 'ROC AUC': 0.7902439024390244}\n",
      "\n",
      "The best-performing model is: SVC with 0.8132 accuracy.\n",
      "\n",
      "The best-performing model based on Precision is: Random Forest with 0.8163\n",
      "\n",
      "The best-performing model based on Recall is: SVC with 0.9000\n",
      "\n",
      "The best-performing model based on F1 Score is: SVC with 0.8411\n"
     ]
    }
   ],
   "source": [
    "from sklearn.ensemble import RandomForestClassifier\n",
    "from sklearn.metrics import accuracy_score, precision_score, recall_score, f1_score, roc_auc_score\n",
    "\n",
    "\n",
    "# Choose another classification algorithm (Random Forest as an example)\n",
    "classifier_random_forest = RandomForestClassifier(random_state=3)\n",
    "\n",
    "# Create a pipeline for Random Forest\n",
    "pipeline_random_forest = Pipeline([\n",
    "    ('scaler', StandardScaler()),  # Add any necessary scaling or transformations\n",
    "    ('classifier', classifier_random_forest)\n",
    "])\n",
    "\n",
    "# Train the Random Forest model\n",
    "pipeline_random_forest.fit(X_train, y_train)\n",
    "\n",
    "# Evaluate the models on the testing set\n",
    "y_pred_tuned_decision_tree = tuned_pipeline_decision_tree.predict(X_test)\n",
    "y_pred_tuned_svc = tuned_pipeline_svc.predict(X_test)\n",
    "y_pred_random_forest = pipeline_random_forest.predict(X_test)\n",
    "\n",
    "# Calculate performance metrics for each model\n",
    "metrics_decision_tree = {\n",
    "    'Accuracy': accuracy_score(y_test, y_pred_tuned_decision_tree),\n",
    "    'Precision': precision_score(y_test, y_pred_tuned_decision_tree),\n",
    "    'Recall': recall_score(y_test, y_pred_tuned_decision_tree),\n",
    "    'F1 Score': f1_score(y_test, y_pred_tuned_decision_tree),\n",
    "    'ROC AUC': roc_auc_score(y_test, y_pred_tuned_decision_tree)\n",
    "}\n",
    "\n",
    "metrics_svc = {\n",
    "    'Accuracy': accuracy_score(y_test, y_pred_tuned_svc),\n",
    "    'Precision': precision_score(y_test, y_pred_tuned_svc),\n",
    "    'Recall': recall_score(y_test, y_pred_tuned_svc),\n",
    "    'F1 Score': f1_score(y_test, y_pred_tuned_svc),\n",
    "    'ROC AUC': roc_auc_score(y_test, y_pred_tuned_svc)\n",
    "}\n",
    "\n",
    "metrics_random_forest = {\n",
    "    'Accuracy': accuracy_score(y_test, y_pred_random_forest),\n",
    "    'Precision': precision_score(y_test, y_pred_random_forest),\n",
    "    'Recall': recall_score(y_test, y_pred_random_forest),\n",
    "    'F1 Score': f1_score(y_test, y_pred_random_forest),\n",
    "    'ROC AUC': roc_auc_score(y_test, y_pred_random_forest)\n",
    "}\n",
    "\n",
    "# Print performance metrics for each model\n",
    "print(\"Performance Metrics for Decision Tree:\")\n",
    "print(metrics_decision_tree)\n",
    "\n",
    "print(\"\\nPerformance Metrics for SVC:\")\n",
    "print(metrics_svc)\n",
    "\n",
    "print(\"\\nPerformance Metrics for Random Forest:\")\n",
    "print(metrics_random_forest)\n",
    "\n",
    "# Select the best-performing model based on a chosen metric (e.g., accuracy)\n",
    "best_model = max([(metrics_decision_tree['Accuracy'], 'Decision Tree'),\n",
    "                  (metrics_svc['Accuracy'], 'SVC'),\n",
    "                  (metrics_random_forest['Accuracy'], 'Random Forest')])\n",
    "\n",
    "\n",
    "# You can also compare based on other metrics:\n",
    "best_model_precision = max([(metrics_decision_tree['Precision'], 'Decision Tree'),\n",
    "                            (metrics_svc['Precision'], 'SVC'),\n",
    "                            (metrics_random_forest['Precision'], 'Random Forest')])\n",
    "\n",
    "best_model_recall = max([(metrics_decision_tree['Recall'], 'Decision Tree'),\n",
    "                         (metrics_svc['Recall'], 'SVC'),\n",
    "                         (metrics_random_forest['Recall'], 'Random Forest')])\n",
    "\n",
    "best_model_f1 = max([(metrics_decision_tree['F1 Score'], 'Decision Tree'),\n",
    "                     (metrics_svc['F1 Score'], 'SVC'),\n",
    "                     (metrics_random_forest['F1 Score'], 'Random Forest')])\n",
    "\n",
    "\n",
    "print(f\"\\nThe best-performing model is: {best_model[1]} with {best_model[0]:.4f} accuracy.\")\n",
    "\n",
    "print(f\"\\nThe best-performing model based on Precision is: {best_model_precision[1]} with {best_model_precision[0]:.4f}\")\n",
    "\n",
    "print(f\"\\nThe best-performing model based on Recall is: {best_model_recall[1]} with {best_model_recall[0]:.4f}\")\n",
    "\n",
    "print(f\"\\nThe best-performing model based on F1 Score is: {best_model_f1[1]} with {best_model_f1[0]:.4f}\")"
   ]
  },
  {
   "cell_type": "code",
   "execution_count": null,
   "metadata": {},
   "outputs": [],
   "source": []
  }
 ],
 "metadata": {
  "kernelspec": {
   "display_name": "Python 3",
   "language": "python",
   "name": "python3"
  },
  "language_info": {
   "codemirror_mode": {
    "name": "ipython",
    "version": 3
   },
   "file_extension": ".py",
   "mimetype": "text/x-python",
   "name": "python",
   "nbconvert_exporter": "python",
   "pygments_lexer": "ipython3",
   "version": "3.8.5"
  }
 },
 "nbformat": 4,
 "nbformat_minor": 5
}
