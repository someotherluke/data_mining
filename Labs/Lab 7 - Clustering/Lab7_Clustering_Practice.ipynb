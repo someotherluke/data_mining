{
 "cells": [
  {
   "cell_type": "markdown",
   "metadata": {},
   "source": [
    "# Data Mining CMP-7023B\n",
    "## Lab 7: Unsupervised Learning - Clustering - practice"
   ]
  },
  {
   "cell_type": "markdown",
   "metadata": {},
   "source": [
    "This lab uses the Credit Card dataset https://www.kaggle.com/code/des137/customer-segmentation-credit-cards/data\n"
   ]
  },
  {
   "cell_type": "markdown",
   "metadata": {},
   "source": [
    "It's worth understanding what do these features correspond to:\n",
    "\n",
    "   - BALANCE : Balance amount left in customers account to make purchases\n",
    "   - BALANCE_FREQUENCY : How frequently the Balance is updated, score between 0 and 1\n",
    "   - PURCHASES : Amount of purchases made from account\n",
    "   - ONEOFF_PURCHASES : Maximum purchase amount done in one-go\n",
    "   - INSTALLMENTS_PURCHASES : Amount of purchase done in installment\n",
    "   - CASH_ADVANCE : Cash in advance given by the user\n",
    "   - PURCHASES_FREQUENCY : How frequently the Purchases are being made, score between 0 and 1\n",
    "   - ONEOFFPURCHASESFREQUENCY : How frequently Purchases are happening in one-go\n",
    "   - PURCHASESINSTALLMENTSFREQUENCY : How frequently purchases in installments are being done\n",
    "   - CASHADVANCEFREQUENCY : How frequently the cash in advance being paid\n",
    "   - CASHADVANCETRX : Number of Transactions made with \"Cash in Advanced\"\n",
    "   - PURCHASES_TRX : Numbe of purchase transactions made\n",
    "   - CREDIT_LIMIT : Limit of Credit Card for user\n",
    "   - PAYMENTS : Amount of Payment done by user\n",
    "   - MINIMUM_PAYMENTS : Minimum amount of payments made by user\n",
    "   - PRCFULLPAYMENT : Percent of full payment paid by user\n",
    "   - TENURE : Tenure of credit card service for user"
   ]
  },
  {
   "cell_type": "markdown",
   "metadata": {},
   "source": [
    "Load the data using pandas and inspect the head."
   ]
  },
  {
   "cell_type": "markdown",
   "metadata": {},
   "source": [
    "Use the describe() function to observe the descriptive statistics of the data, and the categories"
   ]
  },
  {
   "cell_type": "code",
   "execution_count": null,
   "metadata": {},
   "outputs": [],
   "source": []
  },
  {
   "cell_type": "markdown",
   "metadata": {},
   "source": [
    "Load the data using pandas as credit_data and inspect the head."
   ]
  },
  {
   "cell_type": "code",
   "execution_count": null,
   "metadata": {},
   "outputs": [],
   "source": []
  },
  {
   "cell_type": "markdown",
   "metadata": {},
   "source": [
    "Use the info() function to get a feel for the different categories and there counts and data type."
   ]
  },
  {
   "cell_type": "code",
   "execution_count": null,
   "metadata": {},
   "outputs": [],
   "source": []
  },
  {
   "cell_type": "markdown",
   "metadata": {},
   "source": [
    "Using the drop function, remove the 'CUST_ID' column as we don't need this piece of information."
   ]
  },
  {
   "cell_type": "code",
   "execution_count": null,
   "metadata": {},
   "outputs": [],
   "source": []
  },
  {
   "cell_type": "markdown",
   "metadata": {},
   "source": [
    "Inspect the original data see if we have an NA or missing values"
   ]
  },
  {
   "cell_type": "code",
   "execution_count": null,
   "metadata": {},
   "outputs": [],
   "source": []
  },
  {
   "cell_type": "markdown",
   "metadata": {},
   "source": [
    "Based on the column(s) you found had missing values, replace the data with an appropriate fill value (Median, Mean etc.)"
   ]
  },
  {
   "cell_type": "code",
   "execution_count": null,
   "metadata": {},
   "outputs": [],
   "source": []
  },
  {
   "cell_type": "markdown",
   "metadata": {},
   "source": [
    "For each data column, plot the Kernel Density (KDE) Estimate using the seaborn package."
   ]
  },
  {
   "cell_type": "code",
   "execution_count": null,
   "metadata": {},
   "outputs": [],
   "source": []
  },
  {
   "cell_type": "markdown",
   "metadata": {},
   "source": [
    "Inpsect the KDE plots and consider which columns you think are important to the Credit Card dataset. \n",
    "\n",
    "Consider how the plots are skewed, and the variation across the plots. \n",
    "Because we're going to be using clustering to get a good visualisation we want to include the skewness."
   ]
  },
  {
   "cell_type": "code",
   "execution_count": null,
   "metadata": {},
   "outputs": [],
   "source": [
    "cols = ['BALANCE', 'ONEOFF_PURCHASES', 'INSTALLMENTS_PURCHASES', 'CASH_ADVANCE', 'ONEOFF_PURCHASES_FREQUENCY',\n",
    "        'PURCHASES_INSTALLMENTS_FREQUENCY', 'CASH_ADVANCE_TRX', 'PURCHASES_TRX', 'CREDIT_LIMIT', 'PAYMENTS', \n",
    "        'MINIMUM_PAYMENTS', 'PRC_FULL_PAYMENT']"
   ]
  },
  {
   "cell_type": "markdown",
   "metadata": {},
   "source": [
    "Here we're going to take the natural log of our dataset to accentuate our KDE plots.\n",
    "\n",
    "Consider: Why we might want to use ln(1+x) instead of ln(x)\n",
    "\n",
    "We use the function: https://numpy.org/doc/stable/reference/generated/numpy.log1p.html"
   ]
  },
  {
   "cell_type": "code",
   "execution_count": null,
   "metadata": {},
   "outputs": [],
   "source": []
  },
  {
   "cell_type": "markdown",
   "metadata": {},
   "source": [
    "Plot your KDE plots with your chosen subset of columns with the newly transformed column data"
   ]
  },
  {
   "cell_type": "code",
   "execution_count": null,
   "metadata": {},
   "outputs": [],
   "source": []
  },
  {
   "cell_type": "markdown",
   "metadata": {},
   "source": [
    "Plot a heatmap of the correlations of your columns and check if there are any highly correlated features that you can remove (say correlation >=0.95)"
   ]
  },
  {
   "cell_type": "markdown",
   "metadata": {},
   "source": [
    "Use the elbow method to find a good KMeans clustering for our dataset.\n",
    "\n",
    "You'll want to consider clusters in the range of 1 to 10\n",
    "\n",
    "https://en.wikipedia.org/wiki/Elbow_method_(clustering)\n",
    "\n",
    "Optionally: You could consider if using a PCA (Principal component analysis) before clustering has any effect on the number of clusters.\n",
    "\n",
    "Display the elbow plot, by plotting the numbers of clusters against the models inertia\n"
   ]
  },
  {
   "cell_type": "code",
   "execution_count": null,
   "metadata": {},
   "outputs": [],
   "source": []
  },
  {
   "cell_type": "markdown",
   "metadata": {},
   "source": [
    "Plot the silhouette score of each of the kmeans score to better inspect the clusters and decide where the best clustering lies.\n",
    "\n",
    "https://scikit-learn.org/stable/modules/generated/sklearn.metrics.silhouette_score.html\n"
   ]
  },
  {
   "cell_type": "code",
   "execution_count": null,
   "metadata": {},
   "outputs": [],
   "source": []
  },
  {
   "cell_type": "markdown",
   "metadata": {},
   "source": [
    "The highest silhouette gives us an idea of the ideal number of clusters.\n",
    "\n",
    "Train the model for the optimal number of clusters based on the highest silhouette score.\n",
    "\n"
   ]
  },
  {
   "cell_type": "code",
   "execution_count": null,
   "metadata": {},
   "outputs": [],
   "source": []
  },
  {
   "cell_type": "markdown",
   "metadata": {},
   "source": [
    "Add the labels to our original dataset with a column called 'cluster_id'"
   ]
  },
  {
   "cell_type": "code",
   "execution_count": null,
   "metadata": {},
   "outputs": [],
   "source": []
  },
  {
   "cell_type": "markdown",
   "metadata": {},
   "source": [
    "Transform our column data back to the original by exponentiating it."
   ]
  },
  {
   "cell_type": "code",
   "execution_count": null,
   "metadata": {},
   "outputs": [],
   "source": []
  },
  {
   "cell_type": "markdown",
   "metadata": {},
   "source": [
    "Use a scatter plot to show the ONEOFF_PURCHASES vs PURCHASES overall. \n",
    "\n",
    "Using the cluster-ids to color the points.\n",
    "\n",
    "Is there any pattern to how our clustering represents singular purchases vs. many purchases. Consider using\n"
   ]
  },
  {
   "cell_type": "code",
   "execution_count": null,
   "metadata": {},
   "outputs": [],
   "source": []
  },
  {
   "cell_type": "markdown",
   "metadata": {},
   "source": [
    "Use a scaterplot to show the CREDIT_LIMIT vs. PURCHASES.\n",
    "\n",
    "Use the cluser-id to color the points. \n",
    "\n",
    "This will show the distribution of the clusters based on the credit limit and total purchases.\n",
    "\n",
    "What does our plot tell us?\n"
   ]
  },
  {
   "cell_type": "code",
   "execution_count": null,
   "metadata": {},
   "outputs": [],
   "source": [
    "plt.figure(figsize=(10,6))\n",
    "sns.scatterplot(data=orig_data, x='CREDIT_LIMIT', y='PURCHASES', hue='cluster_id')\n",
    "plt.title('Distribution of clusters based on Credit limit and total purchases')\n",
    "plt.show()"
   ]
  }
 ],
 "metadata": {
  "kernelspec": {
   "display_name": "Python 3",
   "language": "python",
   "name": "python3"
  },
  "language_info": {
   "codemirror_mode": {
    "name": "ipython",
    "version": 3
   },
   "file_extension": ".py",
   "mimetype": "text/x-python",
   "name": "python",
   "nbconvert_exporter": "python",
   "pygments_lexer": "ipython3",
   "version": "3.8.5"
  }
 },
 "nbformat": 4,
 "nbformat_minor": 2
}
