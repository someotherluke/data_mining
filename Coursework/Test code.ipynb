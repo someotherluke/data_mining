{
 "cells": [
  {
   "cell_type": "code",
   "execution_count": 1,
   "metadata": {},
   "outputs": [
    {
     "name": "stdout",
     "output_type": "stream",
     "text": [
      "Requirement already satisfied: category_encoders in c:\\users\\lodke\\anaconda3\\lib\\site-packages (2.6.3)\n",
      "Requirement already satisfied: scipy>=1.0.0 in c:\\users\\lodke\\anaconda3\\lib\\site-packages (from category_encoders) (1.5.2)\n",
      "Requirement already satisfied: patsy>=0.5.1 in c:\\users\\lodke\\anaconda3\\lib\\site-packages (from category_encoders) (0.5.1)\n",
      "Requirement already satisfied: importlib-resources; python_version < \"3.9\" in c:\\users\\lodke\\anaconda3\\lib\\site-packages (from category_encoders) (6.4.0)\n",
      "Requirement already satisfied: scikit-learn>=0.20.0 in c:\\users\\lodke\\anaconda3\\lib\\site-packages (from category_encoders) (1.3.2)\n",
      "Requirement already satisfied: pandas>=1.0.5 in c:\\users\\lodke\\anaconda3\\lib\\site-packages (from category_encoders) (1.1.3)\n",
      "Requirement already satisfied: numpy>=1.14.0 in c:\\users\\lodke\\anaconda3\\lib\\site-packages (from category_encoders) (1.19.2)\n",
      "Requirement already satisfied: statsmodels>=0.9.0 in c:\\users\\lodke\\anaconda3\\lib\\site-packages (from category_encoders) (0.12.0)\n",
      "Requirement already satisfied: six in c:\\users\\lodke\\anaconda3\\lib\\site-packages (from patsy>=0.5.1->category_encoders) (1.15.0)\n",
      "Requirement already satisfied: zipp>=3.1.0; python_version < \"3.10\" in c:\\users\\lodke\\anaconda3\\lib\\site-packages (from importlib-resources; python_version < \"3.9\"->category_encoders) (3.4.0)\n",
      "Requirement already satisfied: joblib>=1.1.1 in c:\\users\\lodke\\anaconda3\\lib\\site-packages (from scikit-learn>=0.20.0->category_encoders) (1.4.2)\n",
      "Requirement already satisfied: threadpoolctl>=2.0.0 in c:\\users\\lodke\\anaconda3\\lib\\site-packages (from scikit-learn>=0.20.0->category_encoders) (2.1.0)\n",
      "Requirement already satisfied: python-dateutil>=2.7.3 in c:\\users\\lodke\\anaconda3\\lib\\site-packages (from pandas>=1.0.5->category_encoders) (2.8.1)\n",
      "Requirement already satisfied: pytz>=2017.2 in c:\\users\\lodke\\anaconda3\\lib\\site-packages (from pandas>=1.0.5->category_encoders) (2020.1)\n",
      "Requirement already satisfied: imbalanced-learn in c:\\users\\lodke\\anaconda3\\lib\\site-packages (0.12.2)\n",
      "Requirement already satisfied: numpy>=1.17.3 in c:\\users\\lodke\\anaconda3\\lib\\site-packages (from imbalanced-learn) (1.19.2)\n",
      "Requirement already satisfied: scikit-learn>=1.0.2 in c:\\users\\lodke\\anaconda3\\lib\\site-packages (from imbalanced-learn) (1.3.2)\n",
      "Requirement already satisfied: scipy>=1.5.0 in c:\\users\\lodke\\anaconda3\\lib\\site-packages (from imbalanced-learn) (1.5.2)\n",
      "Requirement already satisfied: threadpoolctl>=2.0.0 in c:\\users\\lodke\\anaconda3\\lib\\site-packages (from imbalanced-learn) (2.1.0)\n",
      "Requirement already satisfied: joblib>=1.1.1 in c:\\users\\lodke\\anaconda3\\lib\\site-packages (from imbalanced-learn) (1.4.2)\n"
     ]
    }
   ],
   "source": [
    "#dataframe handling\n",
    "import pandas as pd\n",
    "#mathematics\n",
    "import numpy as np\n",
    "\n",
    "#plotting\n",
    "import matplotlib.pyplot as plt\n",
    "import seaborn as sns\n",
    "\n",
    "#encoding\n",
    "!pip install category_encoders\n",
    "import category_encoders as ce\n",
    "from sklearn.preprocessing import OneHotEncoder\n",
    "\n",
    "#What it says on the tin\n",
    "from sklearn.model_selection import train_test_split\n",
    "\n",
    "#outlier detection\n",
    "from sklearn.cluster import DBSCAN\n",
    "from sklearn.ensemble import IsolationForest\n",
    "\n",
    "\n",
    "#imputer\n",
    "from sklearn.impute import KNNImputer, SimpleImputer\n",
    "\n",
    "#clustering checkers\n",
    "from sklearn.metrics import silhouette_score, davies_bouldin_score\n",
    "\n",
    "#feature selection\n",
    "from sklearn.feature_selection import SelectKBest, mutual_info_classif\n",
    "from scipy.stats import spearmanr\n",
    "\n",
    "#upsampling\n",
    "!pip install imbalanced-learn\n",
    "from imblearn.over_sampling import SMOTE\n",
    "from sklearn.utils import resample\n",
    "\n",
    "#scaling \n",
    "from sklearn.preprocessing import MinMaxScaler"
   ]
  },
  {
   "cell_type": "code",
   "execution_count": 2,
   "metadata": {},
   "outputs": [],
   "source": [
    "#Read in data\n",
    "disease_train     = pd.read_csv('disease_train.csv')"
   ]
  },
  {
   "cell_type": "code",
   "execution_count": 3,
   "metadata": {},
   "outputs": [],
   "source": [
    "#Remove obvious age outliers\n",
    "disease_train_agesremoved = disease_train[(disease_train['age'] != 65526) & (disease_train['age'] != 455)] \n",
    "\n",
    "#Drop axes that aren't helpful\n",
    "disease_clean = disease_train_agesremoved.drop('test_X6', axis=1)\n",
    "disease_clean = disease_clean.drop('id', axis=1)\n",
    "\n",
    "#Differentiate null entries in gender from null entries in other variables\n",
    "disease_clean['gender'] = disease_clean['gender'].fillna('empty')\n",
    "\n",
    "#Reset index to account for dropped rows\n",
    "disease_clean.reset_index(drop=True, inplace=True)\n",
    "\n",
    "disease_clean_v0 = disease_clean"
   ]
  },
  {
   "cell_type": "code",
   "execution_count": 4,
   "metadata": {},
   "outputs": [],
   "source": [
    "#Split lists for tests/modules that require only one\n",
    "\n",
    "#Categorical\n",
    "disease_cat = ['sick',            'pregnant',      'concern_type1',   'concern_type2',\n",
    "                'enlargement',     'tumor'   ,      'disorder',        'medication_A',\n",
    "                'medication_B',    'mental_health', 'mood_stabiliser', 'surgery',\n",
    "                'treatment_type1', 'suspect', 'gender', 'target']\n",
    "\n",
    "#Numerical\n",
    "disease_num  = ['age', 'test_X1', 'test_X2', 'test_X3', 'test_X4', 'test_X5']"
   ]
  },
  {
   "cell_type": "code",
   "execution_count": null,
   "metadata": {},
   "outputs": [],
   "source": [
    "#Two sets of selected for features from data analysis\n",
    "disease_input = [\n",
    "                 'test_X1',       'test_X5',  'test_X3', 'test_X2',      'test_X4',\n",
    "                 'concern_type2', 'suspect',  'age',     'medication_A', 'medication_B',\n",
    "                 'gender',\n",
    "                ]\n",
    "\n",
    "disease_input_strict = [                 \n",
    "                         'test_X1', 'test_X5', 'test_X3', 'test_X2', 'test_X4',\n",
    "                        ]\n",
    "\n",
    "disease_output = ['target']"
   ]
  },
  {
   "cell_type": "code",
   "execution_count": null,
   "metadata": {},
   "outputs": [],
   "source": []
  },
  {
   "cell_type": "code",
   "execution_count": null,
   "metadata": {},
   "outputs": [],
   "source": []
  },
  {
   "cell_type": "code",
   "execution_count": null,
   "metadata": {},
   "outputs": [],
   "source": []
  },
  {
   "cell_type": "code",
   "execution_count": null,
   "metadata": {},
   "outputs": [],
   "source": []
  },
  {
   "cell_type": "code",
   "execution_count": null,
   "metadata": {},
   "outputs": [],
   "source": []
  }
 ],
 "metadata": {
  "kernelspec": {
   "display_name": "Python 3",
   "language": "python",
   "name": "python3"
  },
  "language_info": {
   "codemirror_mode": {
    "name": "ipython",
    "version": 3
   },
   "file_extension": ".py",
   "mimetype": "text/x-python",
   "name": "python",
   "nbconvert_exporter": "python",
   "pygments_lexer": "ipython3",
   "version": "3.8.5"
  }
 },
 "nbformat": 4,
 "nbformat_minor": 4
}
